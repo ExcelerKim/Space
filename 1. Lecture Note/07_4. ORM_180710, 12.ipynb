{
 "cells": [
  {
   "cell_type": "markdown",
   "metadata": {},
   "source": [
    "### ORM"
   ]
  },
  {
   "cell_type": "code",
   "execution_count": 1,
   "metadata": {},
   "outputs": [],
   "source": [
    "from sqlalchemy import create_engine"
   ]
  },
  {
   "cell_type": "code",
   "execution_count": 2,
   "metadata": {},
   "outputs": [],
   "source": [
    "engine = create_engine('sqlite:///Exc_180712.db',echo=True)\n",
    "from sqlalchemy.ext.declarative import declarative_base"
   ]
  },
  {
   "cell_type": "code",
   "execution_count": 3,
   "metadata": {},
   "outputs": [],
   "source": [
    "###base / autobase\n",
    "Base = declarative_base()"
   ]
  },
  {
   "cell_type": "code",
   "execution_count": 4,
   "metadata": {},
   "outputs": [],
   "source": [
    "from sqlalchemy import Column, Integer, String, ForeignKey"
   ]
  },
  {
   "cell_type": "code",
   "execution_count": 5,
   "metadata": {},
   "outputs": [],
   "source": [
    "### relationship_180712\n",
    "from sqlalchemy.orm import relationship"
   ]
  },
  {
   "cell_type": "code",
   "execution_count": 6,
   "metadata": {},
   "outputs": [],
   "source": [
    "class Artist(Base):\n",
    "    __tablename__ = 'artist'\n",
    "    \n",
    "    id = Column(Integer, primary_key = True)\n",
    "    name = Column(String)\n",
    "    album = relationship(\"Album\", back_populates=\"artist\")\n",
    "    \n",
    "    def __repr__(self):\n",
    "        return \"<T' artist(name= '%s')>\" % (self.name)\n",
    "\n",
    "class Album(Base):\n",
    "    __tablename__ = 'album'\n",
    "    \n",
    "    id = Column(Integer, primary_key = True)\n",
    "    title = Column(String)\n",
    "    artist_id = Column(Integer, ForeignKey('artist.id'))\n",
    "    artist = relationship(\"Artist\", back_populates=\"album\", uselist=False)\n",
    "\n",
    "class Genre(Base):\n",
    "    __tablename__ = 'genre'\n",
    "    \n",
    "    id = Column(Integer, primary_key = True)\n",
    "    name = Column(String)\n",
    "\n",
    "class Track(Base):\n",
    "    __tablename__ = 'track'\n",
    "    \n",
    "    id = Column(Integer, primary_key = True)\n",
    "    title = Column(String)\n",
    "    length = Column(Integer)\n",
    "    rating = Column(Integer)\n",
    "    count = Column(Integer)\n",
    "    album_id = Column(Integer, ForeignKey('album.id'))\n",
    "    genre_id = Column(Integer, ForeignKey('genre.id'))"
   ]
  },
  {
   "cell_type": "code",
   "execution_count": 7,
   "metadata": {
    "scrolled": true
   },
   "outputs": [
    {
     "name": "stdout",
     "output_type": "stream",
     "text": [
      "2018-07-12 10:51:16,509 INFO sqlalchemy.engine.base.Engine SELECT CAST('test plain returns' AS VARCHAR(60)) AS anon_1\n",
      "2018-07-12 10:51:16,514 INFO sqlalchemy.engine.base.Engine ()\n",
      "2018-07-12 10:51:16,515 INFO sqlalchemy.engine.base.Engine SELECT CAST('test unicode returns' AS VARCHAR(60)) AS anon_1\n",
      "2018-07-12 10:51:16,516 INFO sqlalchemy.engine.base.Engine ()\n",
      "2018-07-12 10:51:16,517 INFO sqlalchemy.engine.base.Engine PRAGMA table_info(\"artist\")\n",
      "2018-07-12 10:51:16,518 INFO sqlalchemy.engine.base.Engine ()\n",
      "2018-07-12 10:51:16,520 INFO sqlalchemy.engine.base.Engine PRAGMA table_info(\"album\")\n",
      "2018-07-12 10:51:16,520 INFO sqlalchemy.engine.base.Engine ()\n",
      "2018-07-12 10:51:16,521 INFO sqlalchemy.engine.base.Engine PRAGMA table_info(\"genre\")\n",
      "2018-07-12 10:51:16,522 INFO sqlalchemy.engine.base.Engine ()\n",
      "2018-07-12 10:51:16,523 INFO sqlalchemy.engine.base.Engine PRAGMA table_info(\"track\")\n",
      "2018-07-12 10:51:16,523 INFO sqlalchemy.engine.base.Engine ()\n"
     ]
    }
   ],
   "source": [
    "Base.metadata.create_all(engine)"
   ]
  },
  {
   "cell_type": "code",
   "execution_count": 8,
   "metadata": {},
   "outputs": [],
   "source": [
    "artist1 = Artist(name = 'Led Zepplin')\n",
    "artist2 = Artist(name = 'AC/DC')"
   ]
  },
  {
   "cell_type": "code",
   "execution_count": 9,
   "metadata": {},
   "outputs": [
    {
     "data": {
      "text/plain": [
       "<T' artist(name= 'Led Zepplin')>"
      ]
     },
     "execution_count": 9,
     "metadata": {},
     "output_type": "execute_result"
    }
   ],
   "source": [
    "artist1"
   ]
  },
  {
   "cell_type": "code",
   "execution_count": 18,
   "metadata": {},
   "outputs": [
    {
     "name": "stdout",
     "output_type": "stream",
     "text": [
      "2018-07-12 10:51:58,228 INFO sqlalchemy.engine.base.Engine BEGIN (implicit)\n",
      "2018-07-12 10:51:58,229 INFO sqlalchemy.engine.base.Engine SELECT artist.id AS artist_id \n",
      "FROM artist \n",
      "WHERE artist.id = ?\n",
      "2018-07-12 10:51:58,229 INFO sqlalchemy.engine.base.Engine (1,)\n",
      "2018-07-12 10:51:58,231 INFO sqlalchemy.engine.base.Engine UPDATE artist SET name=? WHERE artist.id = ?\n",
      "2018-07-12 10:51:58,232 INFO sqlalchemy.engine.base.Engine ('xyz', 1)\n",
      "2018-07-12 10:51:58,235 INFO sqlalchemy.engine.base.Engine SELECT album.id AS album_id, album.title AS album_title, album.artist_id AS album_artist_id \n",
      "FROM album \n",
      "WHERE ? = album.artist_id\n",
      "2018-07-12 10:51:58,236 INFO sqlalchemy.engine.base.Engine (1,)\n"
     ]
    }
   ],
   "source": [
    "artist1.album = [Album(title = \"IV\"), Album(title = \"Who Made Who\")]"
   ]
  },
  {
   "cell_type": "code",
   "execution_count": 30,
   "metadata": {},
   "outputs": [
    {
     "name": "stdout",
     "output_type": "stream",
     "text": [
      "2018-07-12 10:56:17,207 INFO sqlalchemy.engine.base.Engine BEGIN (implicit)\n",
      "2018-07-12 10:56:17,208 INFO sqlalchemy.engine.base.Engine SELECT artist.id AS artist_id, artist.name AS artist_name \n",
      "FROM artist \n",
      "WHERE artist.id = ?\n",
      "2018-07-12 10:56:17,209 INFO sqlalchemy.engine.base.Engine (1,)\n",
      "2018-07-12 10:56:17,210 INFO sqlalchemy.engine.base.Engine SELECT album.id AS album_id, album.title AS album_title, album.artist_id AS album_artist_id \n",
      "FROM album \n",
      "WHERE ? = album.artist_id\n",
      "2018-07-12 10:56:17,211 INFO sqlalchemy.engine.base.Engine (1,)\n",
      "3\n"
     ]
    }
   ],
   "source": [
    "print(artist1.album[0].id)"
   ]
  },
  {
   "cell_type": "code",
   "execution_count": 13,
   "metadata": {},
   "outputs": [],
   "source": [
    "from sqlalchemy.orm import sessionmaker"
   ]
  },
  {
   "cell_type": "code",
   "execution_count": 14,
   "metadata": {},
   "outputs": [],
   "source": [
    "Session = sessionmaker(bind = engine)\n",
    "session = Session()"
   ]
  },
  {
   "cell_type": "code",
   "execution_count": 15,
   "metadata": {},
   "outputs": [
    {
     "name": "stdout",
     "output_type": "stream",
     "text": [
      "2018-07-12 10:51:29,753 INFO sqlalchemy.engine.base.Engine BEGIN (implicit)\n",
      "2018-07-12 10:51:29,755 INFO sqlalchemy.engine.base.Engine INSERT INTO artist (name) VALUES (?)\n",
      "2018-07-12 10:51:29,756 INFO sqlalchemy.engine.base.Engine ('Led Zepplin',)\n",
      "2018-07-12 10:51:29,759 INFO sqlalchemy.engine.base.Engine INSERT INTO artist (name) VALUES (?)\n",
      "2018-07-12 10:51:29,759 INFO sqlalchemy.engine.base.Engine ('AC/DC',)\n",
      "2018-07-12 10:51:29,761 INFO sqlalchemy.engine.base.Engine INSERT INTO album (title, artist_id) VALUES (?, ?)\n",
      "2018-07-12 10:51:29,762 INFO sqlalchemy.engine.base.Engine ('IV', 1)\n",
      "2018-07-12 10:51:29,764 INFO sqlalchemy.engine.base.Engine INSERT INTO album (title, artist_id) VALUES (?, ?)\n",
      "2018-07-12 10:51:29,764 INFO sqlalchemy.engine.base.Engine ('Who Made Who', 1)\n",
      "2018-07-12 10:51:29,766 INFO sqlalchemy.engine.base.Engine COMMIT\n"
     ]
    }
   ],
   "source": [
    "session.add_all([artist1, artist2])\n",
    "session.commit()"
   ]
  },
  {
   "cell_type": "code",
   "execution_count": 16,
   "metadata": {},
   "outputs": [
    {
     "data": {
      "text/plain": [
       "IdentitySet([<T' artist(name= 'xyz')>])"
      ]
     },
     "execution_count": 16,
     "metadata": {},
     "output_type": "execute_result"
    }
   ],
   "source": [
    "artist1.name = 'xyz'\n",
    "## dirty: 미반영된 수정사항\n",
    "session.dirty"
   ]
  },
  {
   "cell_type": "code",
   "execution_count": 17,
   "metadata": {},
   "outputs": [
    {
     "data": {
      "text/plain": [
       "IdentitySet([])"
      ]
     },
     "execution_count": 17,
     "metadata": {},
     "output_type": "execute_result"
    }
   ],
   "source": [
    "## new: 새로운 사항\n",
    "session.new"
   ]
  },
  {
   "cell_type": "code",
   "execution_count": null,
   "metadata": {},
   "outputs": [],
   "source": [
    "## dirty 한 내용 반영 (수정)\n",
    "session.commit()"
   ]
  },
  {
   "cell_type": "code",
   "execution_count": null,
   "metadata": {
    "scrolled": true
   },
   "outputs": [],
   "source": [
    "session.add_all([\n",
    "    Album(title = 'IV', artist_id = artist1.id),\n",
    "    Album(title = 'Who Made Who', artist_id = artist2.id),\n",
    "])\n",
    "\n",
    "session.add_all([\n",
    "    Genre(name = \"Rock\"), Genre(name = \"Metal\")\n",
    "])\n",
    "\n",
    "session.commit()"
   ]
  },
  {
   "cell_type": "code",
   "execution_count": null,
   "metadata": {},
   "outputs": [],
   "source": [
    "album1 = session.query(Album).filter(Album.artist_id == artist1.id).one()\n",
    "album2 = session.query(Album).filter(Album.artist_id == artist2.id).one()\n",
    "\n",
    "genre1 = session.query(Genre).filter(Genre.name =='Rock').filter(Genre.id ==1).one()\n",
    "genre2 = session.query(Genre).filter(Genre.name =='Metal').filter(Genre.id ==2).one()"
   ]
  },
  {
   "cell_type": "code",
   "execution_count": null,
   "metadata": {},
   "outputs": [],
   "source": []
  }
 ],
 "metadata": {
  "kernelspec": {
   "display_name": "Python 3",
   "language": "python",
   "name": "python3"
  },
  "language_info": {
   "codemirror_mode": {
    "name": "ipython",
    "version": 3
   },
   "file_extension": ".py",
   "mimetype": "text/x-python",
   "name": "python",
   "nbconvert_exporter": "python",
   "pygments_lexer": "ipython3",
   "version": "3.6.4"
  }
 },
 "nbformat": 4,
 "nbformat_minor": 2
}
