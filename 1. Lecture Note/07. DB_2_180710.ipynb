{
 "cells": [
  {
   "cell_type": "markdown",
   "metadata": {},
   "source": [
    "###  DB_Table"
   ]
  },
  {
   "cell_type": "code",
   "execution_count": 11,
   "metadata": {},
   "outputs": [],
   "source": [
    "import sqlite3\n",
    "conn = sqlite3.connect('Exc_180710.db')\n",
    "cur = conn.cursor()"
   ]
  },
  {
   "cell_type": "code",
   "execution_count": 12,
   "metadata": {},
   "outputs": [
    {
     "name": "stderr",
     "output_type": "stream",
     "text": [
      "ERROR:root:An unexpected error occurred while tokenizing input\n",
      "The following traceback may be corrupted or invalid\n",
      "The error message is: ('EOF in multi-line string', (1, 0))\n",
      "\n"
     ]
    },
    {
     "ename": "OperationalError",
     "evalue": "table Artist already exists",
     "output_type": "error",
     "traceback": [
      "\u001b[1;31m---------------------------------------------------------------------------\u001b[0m",
      "\u001b[1;31mOperationalError\u001b[0m                          Traceback (most recent call last)",
      "\u001b[1;32m<ipython-input-12-8f4120578e7c>\u001b[0m in \u001b[0;36m<module>\u001b[1;34m()\u001b[0m\n\u001b[0;32m     15\u001b[0m     \u001b[0martist_id\u001b[0m \u001b[0mINTEGER\u001b[0m\u001b[1;33m\u001b[0m\u001b[0m\n\u001b[0;32m     16\u001b[0m     );\n\u001b[1;32m---> 17\u001b[1;33m ''')\n\u001b[0m",
      "\u001b[1;31mOperationalError\u001b[0m: table Artist already exists"
     ]
    }
   ],
   "source": [
    "cur.executescript('''\n",
    "    CREATE TABLE Artist (\n",
    "    id INTEGER NOT NULL PRIMARY KEY AUTOINCREMENT UNIQUE,\n",
    "    name TEXT\n",
    "    );\n",
    "    \n",
    "    CREATE TABLE Genre (\n",
    "    id INTEGER NOT NULL PRIMARY KEY AUTOINCREMENT UNIQUE,\n",
    "    name TEXT\n",
    "    );\n",
    "    \n",
    "    CREATE TABLE Album (\n",
    "    id INTEGER NOT NULL PRIMARY KEY AUTOINCREMENT UNIQUE,\n",
    "    title TEXT,\n",
    "    artist_id INTEGER\n",
    "    );\n",
    "''')"
   ]
  },
  {
   "cell_type": "code",
   "execution_count": 13,
   "metadata": {},
   "outputs": [
    {
     "data": {
      "text/plain": [
       "<sqlite3.Cursor at 0x24878071650>"
      ]
     },
     "execution_count": 13,
     "metadata": {},
     "output_type": "execute_result"
    }
   ],
   "source": [
    "cur.executescript('''\n",
    "    CREATE TABLE Track (\n",
    "        id INTEGER NOT NULL PRIMARY KEY AUTOINCREMENT UNIQUE,\n",
    "        title TEXT,\n",
    "        length INTEGER,\n",
    "        rating INTEGER,\n",
    "        count INTEGER,\n",
    "        album_id INTEGER,\n",
    "        genre_id INTEGER\n",
    "    )\n",
    "''')"
   ]
  },
  {
   "cell_type": "code",
   "execution_count": 14,
   "metadata": {},
   "outputs": [
    {
     "data": {
      "text/plain": [
       "<sqlite3.Cursor at 0x24878071650>"
      ]
     },
     "execution_count": 14,
     "metadata": {},
     "output_type": "execute_result"
    }
   ],
   "source": [
    "cur.executescript('''\n",
    "    insert into Artist (name) values ('Led Zepplin');\n",
    "    insert into Artist (name) values ('AC/DC');\n",
    "\n",
    "    insert into Genre (name) values ('Rock');\n",
    "    insert into Genre (name) values ('Metal');\n",
    "    \n",
    "    insert into Album (title, artist_id) values ('Who Made Who', 2);\n",
    "    insert into Album (title, artist_id) values ('IV', 1);\n",
    "    \n",
    "    insert into Track (title, rating, length, count, album_id, genre_id)\n",
    "    values ('Black Dog', 5, 297, 0, 2, 1);\n",
    "    insert into Track (title, rating, length, count, album_id, genre_id)\n",
    "    values ('Stairway', 5, 482, 0, 2, 1);\n",
    "    insert into Track (title, rating, length, count, album_id, genre_id)\n",
    "    values ('About to Rock', 5, 313, 0, 1, 2);\n",
    "    insert into Track (title, rating, length, count, album_id, genre_id)\n",
    "    values ('Who Made Who', 5, 207, 0, 1, 2)\n",
    "''')"
   ]
  },
  {
   "cell_type": "code",
   "execution_count": 15,
   "metadata": {},
   "outputs": [],
   "source": [
    "conn.commit()"
   ]
  },
  {
   "cell_type": "code",
   "execution_count": 16,
   "metadata": {},
   "outputs": [
    {
     "data": {
      "text/plain": [
       "<sqlite3.Cursor at 0x24878071650>"
      ]
     },
     "execution_count": 16,
     "metadata": {},
     "output_type": "execute_result"
    }
   ],
   "source": [
    "cur.executescript('''\n",
    "    select Track.title, Artist.name, Album.title, Genre.name\n",
    "    from Track join Artist join Album join Genre on\n",
    "            Track.album_id = Album.id\n",
    "            and\n",
    "            Track.genre_id = Genre.id\n",
    "            and\n",
    "            Album.artist_id = Artist.id\n",
    "''')"
   ]
  },
  {
   "cell_type": "code",
   "execution_count": 17,
   "metadata": {},
   "outputs": [
    {
     "data": {
      "text/plain": [
       "<sqlite3.Cursor at 0x24878071650>"
      ]
     },
     "execution_count": 17,
     "metadata": {},
     "output_type": "execute_result"
    }
   ],
   "source": [
    "cur.execute(\"select * from album left join track on album.id=track.album_id\")"
   ]
  },
  {
   "cell_type": "code",
   "execution_count": 18,
   "metadata": {},
   "outputs": [
    {
     "name": "stdout",
     "output_type": "stream",
     "text": [
      "(1, 'Who Made Who', 2, 3, 'About to Rock', 313, 5, 0, 1, 2)\n",
      "(1, 'Who Made Who', 2, 4, 'Who Made Who', 207, 5, 0, 1, 2)\n",
      "(2, 'IV', 1, 1, 'Black Dog', 297, 5, 0, 2, 1)\n",
      "(2, 'IV', 1, 2, 'Stairway', 482, 5, 0, 2, 1)\n"
     ]
    }
   ],
   "source": [
    "for row in cur.fetchall():\n",
    "    print(row)"
   ]
  },
  {
   "cell_type": "code",
   "execution_count": null,
   "metadata": {},
   "outputs": [],
   "source": []
  },
  {
   "cell_type": "code",
   "execution_count": null,
   "metadata": {},
   "outputs": [],
   "source": []
  }
 ],
 "metadata": {
  "kernelspec": {
   "display_name": "Python 3",
   "language": "python",
   "name": "python3"
  },
  "language_info": {
   "codemirror_mode": {
    "name": "ipython",
    "version": 3
   },
   "file_extension": ".py",
   "mimetype": "text/x-python",
   "name": "python",
   "nbconvert_exporter": "python",
   "pygments_lexer": "ipython3",
   "version": "3.6.4"
  }
 },
 "nbformat": 4,
 "nbformat_minor": 2
}
