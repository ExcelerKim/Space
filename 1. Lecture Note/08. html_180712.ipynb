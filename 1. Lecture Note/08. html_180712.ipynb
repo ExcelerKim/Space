{
 "cells": [
  {
   "cell_type": "markdown",
   "metadata": {},
   "source": [
    "## html\n",
    "### 1. Basic Structure"
   ]
  },
  {
   "cell_type": "code",
   "execution_count": 27,
   "metadata": {},
   "outputs": [
    {
     "name": "stdout",
     "output_type": "stream",
     "text": [
      "Overwriting Exc_180712.html\n"
     ]
    }
   ],
   "source": [
    "%%writefile Exc_180712.html\n",
    "<!doctype html>\n",
    "<html lang=\"ko\">\n",
    "<html>\n",
    "    <head>\n",
    "        <meta charset=\"UTF-8\"/>\n",
    "        <title>Exercise</title>\n",
    "        <meta name=\"viewport\" content=\"width=device-width, initial-scale=1.0\"/>\n",
    "        <meta name=\"keywords\" content=\"Bigdata, 실습, 노잼\"/>\n",
    "        <script></script>\n",
    "        <style></style>\n",
    "    </head>\n",
    "    <body>\n",
    "        <header>\n",
    "        <nav>\n",
    "            <ul>\n",
    "                <li>Home</li>\n",
    "                <li>News</li>\n",
    "                <li>Contact</li>\n",
    "                <li>About</li>\n",
    "        </nav>\n",
    "        </header>\n",
    "        <section>\n",
    "            <article>\n",
    "                <h1>Title</h1>\n",
    "                <section>\n",
    "                    <h1>Sub title1</h1>\n",
    "                    <p>Sub content1</p>\n",
    "                </section>\n",
    "                <section>\n",
    "                    <h1>Sub title2</h1>\n",
    "                    <p>Sub content2</p>\n",
    "                </section>\n",
    "            </article>\n",
    "        </section>\n",
    "        <aside>\n",
    "            <section>\n",
    "                <h1>Advertisement</h1>\n",
    "                <p>Content</p>\n",
    "            </section>\n",
    "            <section>\n",
    "                <h1>Advertisement</h1>\n",
    "                <p>Content</p>\n",
    "            </section>\n",
    "        </aside>\n",
    "        <footer>\n",
    "            footer\n",
    "        </footer>\n",
    "        # practice\n",
    "        <ul>\n",
    "            <li><span style=\"color:red;\">첫</span>\n",
    "            번<div>째</div></li>\n",
    "            <li>두번째</li>\n",
    "            <li>세번째</li>\n",
    "        </ul>\n",
    "        <ol>\n",
    "            <li>첫번째</li>\n",
    "            <li>두번째</li>\n",
    "            <li>세번째</li>\n",
    "        </ol>\n",
    "        <h1>Exc 1</h1>\n",
    "        <h2>Exc 1.1</h2>\n",
    "        <h3>Exc 1.1.1</h3>\n",
    "        <h4>Exc 1.1.1.1</h4>\n",
    "        <h5>Exc 1.1.1.1.1</h5>\n",
    "        <h6>Exc 1.1.1.1.1.1</h6>\n",
    "        <section>\n",
    "            <article>\n",
    "            <h1>Article: p, pre tag</h1>\n",
    "            <p>\n",
    "            content A <br/><br/> =\"/n/n\" 나눔\n",
    "            </p>\n",
    "            #pre tag: 쓰는 그대로 출력\n",
    "            <pre>\n",
    "            content B\n",
    "            내용\n",
    "            </pre>\n",
    "            </article>\n",
    "            <article>\n",
    "            <h1>html link</h1>\n",
    "            <p>\n",
    "            <a href=\"https://www.google.com\" target=\"_blank\">단락</a><br/><br/>\n",
    "            </p>\n",
    "            </article>\n",
    "        </section>\n",
    "        <p>\n",
    "            <image src=\"pic_ex.jpg\" usemap=\"#test\"/>\n",
    "        </p>\n",
    "        <map name=\"test\">\n",
    "            <area shape=\"rect\" coords=\"0,0,10,10\" alt=\"help1\" href=\"http://naver.com\">\n",
    "            <area shape=\"rect\" coords=\"10,10,20,20\" alt=\"help2\" href=\"http://naver.com\">\n",
    "            <area shape=\"rect\" coords=\"20,20,30,30\" alt=\"help3\" href=\"http://naver.com\">\n",
    "    </body>\n",
    "</html>"
   ]
  },
  {
   "cell_type": "code",
   "execution_count": 42,
   "metadata": {},
   "outputs": [
    {
     "name": "stdout",
     "output_type": "stream",
     "text": [
      "Overwriting Exc_180712_2.html\n"
     ]
    }
   ],
   "source": [
    "%%writefile Exc_180712_2.html\n",
    "<!doctype html>\n",
    "<html>\n",
    "    <head>\n",
    "        <style>\n",
    "            div {background-color:rgba(255, 0, 0, .5);}\n",
    "            #id {color:rgb(0,0,255);}\n",
    "            .class {background-color:yellow;}\n",
    "            div + p.class {background-color:hsl(90,50%,50%);}\n",
    "            p.class {font-family: BatangChe, Sans-serif;}\n",
    "            p.class {font-size:1.0em;}\n",
    "            </style>\n",
    "    </head>\n",
    "    <body>\n",
    "        <div id=\"id\">Content1</div>\n",
    "        <div class=\"class\">Content2</div>\n",
    "        <p class=\"class\">Content3</p>\n",
    "    </body>\n",
    "</html>"
   ]
  },
  {
   "cell_type": "code",
   "execution_count": 48,
   "metadata": {},
   "outputs": [
    {
     "name": "stdout",
     "output_type": "stream",
     "text": [
      "Overwriting Exc_180712_3.html\n"
     ]
    }
   ],
   "source": [
    "%%writefile Exc_180712_3.html\n",
    "<!doctype html>\n",
    "<html>\n",
    "    <head>\n",
    "        <style>\n",
    "            div {border:1px solid #aaaaaa;}\n",
    "            #id1 {height: 10000px;}\n",
    "            #id2 {position:absolute; top:100px; left:200px;}\n",
    "            #id3 {position:fixed; top:100px; left:200px;}\n",
    "        </style>\n",
    "    </head>\n",
    "    <body>\n",
    "        <div id=\"id1\">\n",
    "                 <ul>\n",
    "                     <li>menu1</li>\n",
    "                     <li>menu2</li>\n",
    "                 </ul>\n",
    "        </div>\n",
    "        <div id=\"id1\">Content1</div>\n",
    "        <div id=\"id2\">Content2</div>\n",
    "        <div id=\"id3\">Content3</div>\n",
    "    </body>\n",
    "</html>       "
   ]
  },
  {
   "cell_type": "code",
   "execution_count": null,
   "metadata": {},
   "outputs": [],
   "source": []
  }
 ],
 "metadata": {
  "kernelspec": {
   "display_name": "Python 3",
   "language": "python",
   "name": "python3"
  },
  "language_info": {
   "codemirror_mode": {
    "name": "ipython",
    "version": 3
   },
   "file_extension": ".py",
   "mimetype": "text/x-python",
   "name": "python",
   "nbconvert_exporter": "python",
   "pygments_lexer": "ipython3",
   "version": "3.6.4"
  }
 },
 "nbformat": 4,
 "nbformat_minor": 2
}
