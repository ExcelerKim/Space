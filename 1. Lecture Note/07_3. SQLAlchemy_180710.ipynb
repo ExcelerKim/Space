{
 "cells": [
  {
   "cell_type": "code",
   "execution_count": 1,
   "metadata": {
    "scrolled": true
   },
   "outputs": [
    {
     "name": "stdout",
     "output_type": "stream",
     "text": [
      "2018-07-10 16:34:37,389 INFO sqlalchemy.engine.base.Engine SELECT CAST('test plain returns' AS VARCHAR(60)) AS anon_1\n",
      "2018-07-10 16:34:37,393 INFO sqlalchemy.engine.base.Engine ()\n",
      "2018-07-10 16:34:37,395 INFO sqlalchemy.engine.base.Engine SELECT CAST('test unicode returns' AS VARCHAR(60)) AS anon_1\n",
      "2018-07-10 16:34:37,395 INFO sqlalchemy.engine.base.Engine ()\n",
      "2018-07-10 16:34:37,400 INFO sqlalchemy.engine.base.Engine SELECT name FROM sqlite_master WHERE type='table' ORDER BY name\n",
      "2018-07-10 16:34:37,401 INFO sqlalchemy.engine.base.Engine ()\n",
      "2018-07-10 16:34:37,403 INFO sqlalchemy.engine.base.Engine PRAGMA table_info(\"Album\")\n",
      "2018-07-10 16:34:37,404 INFO sqlalchemy.engine.base.Engine ()\n",
      "2018-07-10 16:34:37,406 INFO sqlalchemy.engine.base.Engine SELECT sql FROM  (SELECT * FROM sqlite_master UNION ALL   SELECT * FROM sqlite_temp_master) WHERE name = 'Album' AND type = 'table'\n",
      "2018-07-10 16:34:37,407 INFO sqlalchemy.engine.base.Engine ()\n",
      "2018-07-10 16:34:37,409 INFO sqlalchemy.engine.base.Engine PRAGMA foreign_key_list(\"Album\")\n",
      "2018-07-10 16:34:37,410 INFO sqlalchemy.engine.base.Engine ()\n",
      "2018-07-10 16:34:37,410 INFO sqlalchemy.engine.base.Engine SELECT sql FROM  (SELECT * FROM sqlite_master UNION ALL   SELECT * FROM sqlite_temp_master) WHERE name = 'Album' AND type = 'table'\n",
      "2018-07-10 16:34:37,411 INFO sqlalchemy.engine.base.Engine ()\n",
      "2018-07-10 16:34:37,414 INFO sqlalchemy.engine.base.Engine PRAGMA table_info(\"Artist\")\n",
      "2018-07-10 16:34:37,414 INFO sqlalchemy.engine.base.Engine ()\n",
      "2018-07-10 16:34:37,415 INFO sqlalchemy.engine.base.Engine SELECT sql FROM  (SELECT * FROM sqlite_master UNION ALL   SELECT * FROM sqlite_temp_master) WHERE name = 'Artist' AND type = 'table'\n",
      "2018-07-10 16:34:37,416 INFO sqlalchemy.engine.base.Engine ()\n",
      "2018-07-10 16:34:37,417 INFO sqlalchemy.engine.base.Engine PRAGMA foreign_key_list(\"Artist\")\n",
      "2018-07-10 16:34:37,417 INFO sqlalchemy.engine.base.Engine ()\n",
      "2018-07-10 16:34:37,418 INFO sqlalchemy.engine.base.Engine SELECT sql FROM  (SELECT * FROM sqlite_master UNION ALL   SELECT * FROM sqlite_temp_master) WHERE name = 'Artist' AND type = 'table'\n",
      "2018-07-10 16:34:37,419 INFO sqlalchemy.engine.base.Engine ()\n",
      "2018-07-10 16:34:37,420 INFO sqlalchemy.engine.base.Engine PRAGMA index_list(\"Artist\")\n",
      "2018-07-10 16:34:37,420 INFO sqlalchemy.engine.base.Engine ()\n",
      "2018-07-10 16:34:37,422 INFO sqlalchemy.engine.base.Engine PRAGMA index_list(\"Artist\")\n",
      "2018-07-10 16:34:37,423 INFO sqlalchemy.engine.base.Engine ()\n",
      "2018-07-10 16:34:37,424 INFO sqlalchemy.engine.base.Engine SELECT sql FROM  (SELECT * FROM sqlite_master UNION ALL   SELECT * FROM sqlite_temp_master) WHERE name = 'Artist' AND type = 'table'\n",
      "2018-07-10 16:34:37,425 INFO sqlalchemy.engine.base.Engine ()\n",
      "2018-07-10 16:34:37,431 INFO sqlalchemy.engine.base.Engine PRAGMA index_list(\"Album\")\n",
      "2018-07-10 16:34:37,432 INFO sqlalchemy.engine.base.Engine ()\n",
      "2018-07-10 16:34:37,432 INFO sqlalchemy.engine.base.Engine PRAGMA index_list(\"Album\")\n",
      "2018-07-10 16:34:37,433 INFO sqlalchemy.engine.base.Engine ()\n",
      "2018-07-10 16:34:37,434 INFO sqlalchemy.engine.base.Engine SELECT sql FROM  (SELECT * FROM sqlite_master UNION ALL   SELECT * FROM sqlite_temp_master) WHERE name = 'Album' AND type = 'table'\n",
      "2018-07-10 16:34:37,434 INFO sqlalchemy.engine.base.Engine ()\n",
      "2018-07-10 16:34:37,436 INFO sqlalchemy.engine.base.Engine PRAGMA table_info(\"Genre\")\n",
      "2018-07-10 16:34:37,436 INFO sqlalchemy.engine.base.Engine ()\n",
      "2018-07-10 16:34:37,437 INFO sqlalchemy.engine.base.Engine SELECT sql FROM  (SELECT * FROM sqlite_master UNION ALL   SELECT * FROM sqlite_temp_master) WHERE name = 'Genre' AND type = 'table'\n",
      "2018-07-10 16:34:37,438 INFO sqlalchemy.engine.base.Engine ()\n",
      "2018-07-10 16:34:37,439 INFO sqlalchemy.engine.base.Engine PRAGMA foreign_key_list(\"Genre\")\n",
      "2018-07-10 16:34:37,439 INFO sqlalchemy.engine.base.Engine ()\n",
      "2018-07-10 16:34:37,440 INFO sqlalchemy.engine.base.Engine SELECT sql FROM  (SELECT * FROM sqlite_master UNION ALL   SELECT * FROM sqlite_temp_master) WHERE name = 'Genre' AND type = 'table'\n",
      "2018-07-10 16:34:37,440 INFO sqlalchemy.engine.base.Engine ()\n",
      "2018-07-10 16:34:37,441 INFO sqlalchemy.engine.base.Engine PRAGMA index_list(\"Genre\")\n",
      "2018-07-10 16:34:37,441 INFO sqlalchemy.engine.base.Engine ()\n",
      "2018-07-10 16:34:37,442 INFO sqlalchemy.engine.base.Engine PRAGMA index_list(\"Genre\")\n",
      "2018-07-10 16:34:37,443 INFO sqlalchemy.engine.base.Engine ()\n",
      "2018-07-10 16:34:37,444 INFO sqlalchemy.engine.base.Engine SELECT sql FROM  (SELECT * FROM sqlite_master UNION ALL   SELECT * FROM sqlite_temp_master) WHERE name = 'Genre' AND type = 'table'\n",
      "2018-07-10 16:34:37,444 INFO sqlalchemy.engine.base.Engine ()\n",
      "2018-07-10 16:34:37,445 INFO sqlalchemy.engine.base.Engine PRAGMA table_info(\"Track\")\n",
      "2018-07-10 16:34:37,445 INFO sqlalchemy.engine.base.Engine ()\n",
      "2018-07-10 16:34:37,447 INFO sqlalchemy.engine.base.Engine SELECT sql FROM  (SELECT * FROM sqlite_master UNION ALL   SELECT * FROM sqlite_temp_master) WHERE name = 'Track' AND type = 'table'\n",
      "2018-07-10 16:34:37,447 INFO sqlalchemy.engine.base.Engine ()\n",
      "2018-07-10 16:34:37,448 INFO sqlalchemy.engine.base.Engine PRAGMA foreign_key_list(\"Track\")\n",
      "2018-07-10 16:34:37,448 INFO sqlalchemy.engine.base.Engine ()\n",
      "2018-07-10 16:34:37,449 INFO sqlalchemy.engine.base.Engine SELECT sql FROM  (SELECT * FROM sqlite_master UNION ALL   SELECT * FROM sqlite_temp_master) WHERE name = 'Track' AND type = 'table'\n",
      "2018-07-10 16:34:37,450 INFO sqlalchemy.engine.base.Engine ()\n",
      "2018-07-10 16:34:37,451 INFO sqlalchemy.engine.base.Engine PRAGMA index_list(\"Track\")\n",
      "2018-07-10 16:34:37,451 INFO sqlalchemy.engine.base.Engine ()\n",
      "2018-07-10 16:34:37,452 INFO sqlalchemy.engine.base.Engine PRAGMA index_list(\"Track\")\n",
      "2018-07-10 16:34:37,453 INFO sqlalchemy.engine.base.Engine ()\n",
      "2018-07-10 16:34:37,454 INFO sqlalchemy.engine.base.Engine SELECT sql FROM  (SELECT * FROM sqlite_master UNION ALL   SELECT * FROM sqlite_temp_master) WHERE name = 'Track' AND type = 'table'\n",
      "2018-07-10 16:34:37,455 INFO sqlalchemy.engine.base.Engine ()\n",
      "2018-07-10 16:34:37,458 INFO sqlalchemy.engine.base.Engine SELECT name FROM sqlite_master WHERE type='table' ORDER BY name\n",
      "2018-07-10 16:34:37,459 INFO sqlalchemy.engine.base.Engine ()\n",
      "Album\n",
      "Artist\n",
      "Genre\n",
      "Track\n"
     ]
    },
    {
     "name": "stderr",
     "output_type": "stream",
     "text": [
      "C:\\ProgramData\\Anaconda3\\lib\\site-packages\\ipykernel_launcher.py:6: SADeprecationWarning: reflect=True is deprecate; please use the reflect() method.\n",
      "  \n"
     ]
    }
   ],
   "source": [
    "from sqlalchemy import create_engine, MetaData\n",
    "\n",
    "engine = create_engine('sqlite:///Exc_180710_2.db', echo=True)\n",
    "conn = engine.connect()\n",
    "\n",
    "meta = MetaData(bind = engine, reflect=True)\n",
    "meta.reflect(bind = engine)\n",
    "\n",
    "for row in meta.tables:\n",
    "    print(row)"
   ]
  },
  {
   "cell_type": "code",
   "execution_count": 3,
   "metadata": {},
   "outputs": [
    {
     "name": "stdout",
     "output_type": "stream",
     "text": [
      "Album\n",
      "Artist\n",
      "Genre\n",
      "Track\n"
     ]
    }
   ],
   "source": [
    "tables = meta.tables\n",
    "for table in tables:\n",
    "    print(table)"
   ]
  },
  {
   "cell_type": "code",
   "execution_count": 4,
   "metadata": {},
   "outputs": [
    {
     "data": {
      "text/plain": [
       "Table('Track', MetaData(bind=Engine(sqlite:///Exc_180710_2.db)), Column('id', INTEGER(), table=<Track>, primary_key=True, nullable=False), Column('title', VARCHAR(), table=<Track>, nullable=False), Column('length', INTEGER(), table=<Track>, nullable=False), Column('rating', INTEGER(), table=<Track>, nullable=False), Column('count', INTEGER(), table=<Track>, nullable=False), Column('album_id', INTEGER(), ForeignKey('Album.id'), table=<Track>), Column('genre_id', INTEGER(), ForeignKey('Genre.id'), table=<Track>), schema=None)"
      ]
     },
     "execution_count": 4,
     "metadata": {},
     "output_type": "execute_result"
    }
   ],
   "source": [
    "#album\n",
    "\n",
    "track = meta.tables[\"Track\"]\n",
    "track"
   ]
  },
  {
   "cell_type": "code",
   "execution_count": 6,
   "metadata": {},
   "outputs": [
    {
     "name": "stdout",
     "output_type": "stream",
     "text": [
      "2018-07-10 16:36:20,842 INFO sqlalchemy.engine.base.Engine SELECT \"Track\".id, \"Track\".title, \"Track\".length, \"Track\".rating, \"Track\".count, \"Track\".album_id, \"Track\".genre_id \n",
      "FROM \"Track\"\n",
      "2018-07-10 16:36:20,843 INFO sqlalchemy.engine.base.Engine ()\n",
      "(1, 'Black Dog', 297, 5, 0, 1, 1)\n",
      "(2, 'Stairway', 482, 5, 0, 1, 2)\n",
      "(3, 'About to rock', 313, 5, 0, 2, 1)\n",
      "(4, 'Who Made Who', 297, 5, 0, 2, 2)\n"
     ]
    }
   ],
   "source": [
    "for row in conn.execute(track.select()).fetchall():\n",
    "    print(row)\n",
    "    \n",
    "conn.close()\n",
    "meta.clear()"
   ]
  },
  {
   "cell_type": "code",
   "execution_count": null,
   "metadata": {},
   "outputs": [],
   "source": []
  }
 ],
 "metadata": {
  "kernelspec": {
   "display_name": "Python 3",
   "language": "python",
   "name": "python3"
  },
  "language_info": {
   "codemirror_mode": {
    "name": "ipython",
    "version": 3
   },
   "file_extension": ".py",
   "mimetype": "text/x-python",
   "name": "python",
   "nbconvert_exporter": "python",
   "pygments_lexer": "ipython3",
   "version": "3.6.4"
  }
 },
 "nbformat": 4,
 "nbformat_minor": 2
}
