{
 "cells": [
  {
   "cell_type": "code",
   "execution_count": 22,
   "metadata": {},
   "outputs": [
    {
     "data": {
      "text/plain": [
       "'1.2.1'"
      ]
     },
     "execution_count": 22,
     "metadata": {},
     "output_type": "execute_result"
    }
   ],
   "source": [
    "import sqlalchemy\n",
    "sqlalchemy.__version__"
   ]
  },
  {
   "cell_type": "code",
   "execution_count": 23,
   "metadata": {},
   "outputs": [
    {
     "name": "stdout",
     "output_type": "stream",
     "text": [
      "Engine(sqlite:///Exc_180710_2.db)\n"
     ]
    }
   ],
   "source": [
    "from sqlalchemy import create_engine\n",
    "engine = create_engine(\"sqlite:///Exc_180710_2.db\", echo = True)\n",
    "print(engine)"
   ]
  },
  {
   "cell_type": "code",
   "execution_count": 24,
   "metadata": {},
   "outputs": [],
   "source": [
    "from sqlalchemy import Table, Column, Integer, String, MetaData, ForeignKey\n",
    "meta = MetaData()"
   ]
  },
  {
   "cell_type": "code",
   "execution_count": 25,
   "metadata": {
    "scrolled": true
   },
   "outputs": [
    {
     "name": "stdout",
     "output_type": "stream",
     "text": [
      "2018-07-10 13:46:46,163 INFO sqlalchemy.engine.base.Engine SELECT CAST('test plain returns' AS VARCHAR(60)) AS anon_1\n",
      "2018-07-10 13:46:46,164 INFO sqlalchemy.engine.base.Engine ()\n",
      "2018-07-10 13:46:46,165 INFO sqlalchemy.engine.base.Engine SELECT CAST('test unicode returns' AS VARCHAR(60)) AS anon_1\n",
      "2018-07-10 13:46:46,165 INFO sqlalchemy.engine.base.Engine ()\n",
      "2018-07-10 13:46:46,166 INFO sqlalchemy.engine.base.Engine PRAGMA table_info(\"users\")\n",
      "2018-07-10 13:46:46,167 INFO sqlalchemy.engine.base.Engine ()\n",
      "2018-07-10 13:46:46,168 INFO sqlalchemy.engine.base.Engine PRAGMA table_info(\"addresses\")\n",
      "2018-07-10 13:46:46,168 INFO sqlalchemy.engine.base.Engine ()\n"
     ]
    }
   ],
   "source": [
    "users = Table('users', meta,\n",
    "              Column('id', Integer, primary_key=True),\n",
    "              Column('name', String),\n",
    "              Column('fullname',String),\n",
    "             );\n",
    "\n",
    "addresses = Table('addresses', meta,\n",
    "                  Column('id',Integer, primary_key=True),\n",
    "                  Column('user_id', None, ForeignKey('users.id')),\n",
    "                  Column('email_address',String, nullable=False)\n",
    "                  \n",
    "                 );\n",
    "meta.create_all(engine)"
   ]
  },
  {
   "cell_type": "code",
   "execution_count": 26,
   "metadata": {},
   "outputs": [
    {
     "name": "stdout",
     "output_type": "stream",
     "text": [
      "users\n",
      "addresses\n"
     ]
    }
   ],
   "source": [
    "for row in meta.tables:\n",
    "    print(row)"
   ]
  },
  {
   "cell_type": "code",
   "execution_count": 27,
   "metadata": {},
   "outputs": [
    {
     "name": "stdout",
     "output_type": "stream",
     "text": [
      "MetaData(bind=None)\n"
     ]
    }
   ],
   "source": [
    "print(meta)"
   ]
  },
  {
   "cell_type": "code",
   "execution_count": 28,
   "metadata": {},
   "outputs": [
    {
     "name": "stdout",
     "output_type": "stream",
     "text": [
      "INSERT INTO users (id, name, fullname) VALUES (:id, :name, :fullname)\n"
     ]
    }
   ],
   "source": [
    "print(users.insert())"
   ]
  },
  {
   "cell_type": "code",
   "execution_count": 34,
   "metadata": {},
   "outputs": [
    {
     "name": "stdout",
     "output_type": "stream",
     "text": [
      "INSERT INTO users (name, fullname) VALUES (:name, :fullname)\n"
     ]
    },
    {
     "data": {
      "text/plain": [
       "{'fullname': 'Anonymous, Kim', 'name': 'kim'}"
      ]
     },
     "execution_count": 34,
     "metadata": {},
     "output_type": "execute_result"
    }
   ],
   "source": [
    "insert = users.insert().values(name = 'kim', fullname = 'Anonymous, Kim')\n",
    "print(insert)\n",
    "\n",
    "insert.compile().params"
   ]
  },
  {
   "cell_type": "code",
   "execution_count": 48,
   "metadata": {},
   "outputs": [
    {
     "data": {
      "text/plain": [
       "'INSERT INTO users (name, fullname) VALUES (?, ?)'"
      ]
     },
     "execution_count": 48,
     "metadata": {},
     "output_type": "execute_result"
    }
   ],
   "source": [
    "insert.bind = engine\n",
    "str(insert)"
   ]
  },
  {
   "cell_type": "code",
   "execution_count": 46,
   "metadata": {},
   "outputs": [
    {
     "data": {
      "text/plain": [
       "<sqlalchemy.engine.base.Connection at 0x1ad620b57f0>"
      ]
     },
     "execution_count": 46,
     "metadata": {},
     "output_type": "execute_result"
    }
   ],
   "source": [
    "conn = engine.connect()\n",
    "conn"
   ]
  },
  {
   "cell_type": "code",
   "execution_count": 49,
   "metadata": {},
   "outputs": [
    {
     "name": "stdout",
     "output_type": "stream",
     "text": [
      "2018-07-10 14:30:17,694 INFO sqlalchemy.engine.base.Engine INSERT INTO users (name, fullname) VALUES (?, ?)\n",
      "2018-07-10 14:30:17,695 INFO sqlalchemy.engine.base.Engine ('kim', 'Anonymous, Kim')\n",
      "2018-07-10 14:30:17,696 INFO sqlalchemy.engine.base.Engine COMMIT\n"
     ]
    },
    {
     "data": {
      "text/plain": [
       "[3]"
      ]
     },
     "execution_count": 49,
     "metadata": {},
     "output_type": "execute_result"
    }
   ],
   "source": [
    "result = conn.execute(insert)\n",
    "result.inserted_primary_key"
   ]
  },
  {
   "cell_type": "code",
   "execution_count": 50,
   "metadata": {},
   "outputs": [
    {
     "name": "stdout",
     "output_type": "stream",
     "text": [
      "2018-07-10 14:31:08,946 INFO sqlalchemy.engine.base.Engine INSERT INTO users (name, fullname) VALUES (?, ?)\n",
      "2018-07-10 14:31:08,947 INFO sqlalchemy.engine.base.Engine ('Lee', 'Unknown, Lee')\n",
      "2018-07-10 14:31:08,948 INFO sqlalchemy.engine.base.Engine COMMIT\n"
     ]
    },
    {
     "data": {
      "text/plain": [
       "[4]"
      ]
     },
     "execution_count": 50,
     "metadata": {},
     "output_type": "execute_result"
    }
   ],
   "source": [
    "insert = users.insert()\n",
    "result = conn.execute(insert, name='Lee', fullname='Unknown, Lee')\n",
    "result.inserted_primary_key"
   ]
  },
  {
   "cell_type": "code",
   "execution_count": 51,
   "metadata": {},
   "outputs": [
    {
     "name": "stdout",
     "output_type": "stream",
     "text": [
      "2018-07-10 14:32:18,114 INFO sqlalchemy.engine.base.Engine INSERT INTO addresses (user_id, email_address) VALUES (?, ?)\n",
      "2018-07-10 14:32:18,115 INFO sqlalchemy.engine.base.Engine ((1, 'anonymous.kim@test.com'), (2, 'unknow.lee@test.com'))\n",
      "2018-07-10 14:32:18,116 INFO sqlalchemy.engine.base.Engine COMMIT\n"
     ]
    },
    {
     "data": {
      "text/plain": [
       "<sqlalchemy.engine.result.ResultProxy at 0x1ad620eacc0>"
      ]
     },
     "execution_count": 51,
     "metadata": {},
     "output_type": "execute_result"
    }
   ],
   "source": [
    "conn.execute(addresses.insert(), [\n",
    "    {'user_id':1, 'email_address':'anonymous.kim@test.com'},\n",
    "    {'user_id':2, 'email_address':'unknow.lee@test.com'}  \n",
    "])"
   ]
  },
  {
   "cell_type": "code",
   "execution_count": 53,
   "metadata": {},
   "outputs": [],
   "source": [
    "from sqlalchemy.sql import select"
   ]
  },
  {
   "cell_type": "code",
   "execution_count": 54,
   "metadata": {},
   "outputs": [
    {
     "name": "stdout",
     "output_type": "stream",
     "text": [
      "2018-07-10 14:33:28,110 INFO sqlalchemy.engine.base.Engine SELECT users.id, users.name, users.fullname \n",
      "FROM users\n",
      "2018-07-10 14:33:28,110 INFO sqlalchemy.engine.base.Engine ()\n",
      "(1, 'kim', 'Anonymous, Kim')\n",
      "(2, 'kim', 'Anonymous, Kim')\n",
      "(3, 'kim', 'Anonymous, Kim')\n",
      "(4, 'Lee', 'Unknown, Lee')\n"
     ]
    }
   ],
   "source": [
    "query = select([users])\n",
    "result = conn.execute(query)\n",
    "\n",
    "for row in result:\n",
    "    print(row)"
   ]
  },
  {
   "cell_type": "code",
   "execution_count": 66,
   "metadata": {},
   "outputs": [
    {
     "name": "stdout",
     "output_type": "stream",
     "text": [
      "2018-07-10 14:40:44,936 INFO sqlalchemy.engine.base.Engine SELECT users.name, users.fullname \n",
      "FROM users\n",
      "2018-07-10 14:40:44,937 INFO sqlalchemy.engine.base.Engine ()\n",
      "('kim', 'Anonymous, Kim')\n",
      "('kim', 'Anonymous, Kim')\n",
      "('kim', 'Anonymous, Kim')\n",
      "('Lee', 'Unknown, Lee')\n"
     ]
    }
   ],
   "source": [
    "result = conn.execute(select([users.c.name, users.c.fullname]))\n",
    "for row in result:\n",
    "    print(row)"
   ]
  },
  {
   "cell_type": "code",
   "execution_count": 67,
   "metadata": {},
   "outputs": [
    {
     "name": "stdout",
     "output_type": "stream",
     "text": [
      "2018-07-10 14:40:45,515 INFO sqlalchemy.engine.base.Engine SELECT users.id, users.name, users.fullname \n",
      "FROM users\n",
      "2018-07-10 14:40:45,516 INFO sqlalchemy.engine.base.Engine ()\n",
      "id - 1 , name - kim , fullname - Anonymous, Kim\n"
     ]
    }
   ],
   "source": [
    "result = conn.execute(query)\n",
    "row = result.fetchone()\n",
    "print('id -', row['id'], ', name -', row['name'], ', fullname -',row['fullname'])"
   ]
  },
  {
   "cell_type": "code",
   "execution_count": 68,
   "metadata": {},
   "outputs": [
    {
     "name": "stdout",
     "output_type": "stream",
     "text": [
      "id - 2 , name - kim , fullname - Anonymous, Kim\n"
     ]
    }
   ],
   "source": [
    "row = result.fetchone()\n",
    "print('id -', row[0], ', name -', row[1], ', fullname -',row[2])"
   ]
  },
  {
   "cell_type": "code",
   "execution_count": 69,
   "metadata": {},
   "outputs": [
    {
     "name": "stdout",
     "output_type": "stream",
     "text": [
      "2018-07-10 14:40:53,213 INFO sqlalchemy.engine.base.Engine SELECT users.id, users.name, users.fullname \n",
      "FROM users\n",
      "2018-07-10 14:40:53,214 INFO sqlalchemy.engine.base.Engine ()\n",
      "id - 1 , name - kim , fullname - Anonymous, Kim\n",
      "id - 2 , name - kim , fullname - Anonymous, Kim\n",
      "id - 3 , name - kim , fullname - Anonymous, Kim\n",
      "id - 4 , name - Lee , fullname - Unknown, Lee\n"
     ]
    }
   ],
   "source": [
    "result = conn.execute(query)\n",
    "rows = result.fetchall()\n",
    "for row in rows:\n",
    "    print('id -',row[0], ', name -', row[1], ', fullname -', row[2])\n",
    "    \n",
    "result.close()\n",
    "    "
   ]
  },
  {
   "cell_type": "code",
   "execution_count": 72,
   "metadata": {},
   "outputs": [
    {
     "name": "stdout",
     "output_type": "stream",
     "text": [
      "users.id = addresses.user_id\n",
      "users.id = :id_1\n",
      "{'id_1': 1}\n",
      "users.id = addresses.user_id OR users.id = :id_1\n",
      "users.id = addresses.user_id AND users.id = :id_1\n"
     ]
    }
   ],
   "source": [
    "from sqlalchemy import and_, or_, not_\n",
    "print(users.c.id == addresses.c.user_id)\n",
    "print(users.c.id == 1)\n",
    "print((users.c.id == 1).compile().params)\n",
    "print(or_(users.c.id == addresses.c.user_id, users.c.id == 1))\n",
    "print(and_(users.c.id == addresses.c.user_id, users.c.id == 1))"
   ]
  },
  {
   "cell_type": "code",
   "execution_count": 73,
   "metadata": {},
   "outputs": [
    {
     "name": "stdout",
     "output_type": "stream",
     "text": [
      "(users.id = addresses.user_id OR users.id = :id_1) AND addresses.email_address LIKE :email_address_1\n",
      "(users.id = addresses.user_id OR users.id = :id_1) AND addresses.email_address LIKE :email_address_1\n"
     ]
    }
   ],
   "source": [
    "print(and_(\n",
    "        or_(\n",
    "            users.c.id == addresses.c.user_id,\n",
    "            users.c.id == 1\n",
    "        ),\n",
    "        addresses.c.email_address.like('a%')\n",
    "        )\n",
    "    )\n",
    "\n",
    "print((\n",
    "        (users.c.id == addresses.c.user_id) |\n",
    "        (users.c.id == 1)\n",
    "    ) & (addresses.c.email_address.like('a%')))"
   ]
  },
  {
   "cell_type": "code",
   "execution_count": 74,
   "metadata": {},
   "outputs": [
    {
     "name": "stdout",
     "output_type": "stream",
     "text": [
      "2018-07-10 15:09:36,055 INFO sqlalchemy.engine.base.Engine SELECT users.id, users.name, users.fullname \n",
      "FROM users \n",
      "WHERE users.id = ?\n",
      "2018-07-10 15:09:36,056 INFO sqlalchemy.engine.base.Engine (1,)\n",
      "(1, 'kim', 'Anonymous, Kim')\n"
     ]
    }
   ],
   "source": [
    "result = conn.execute(select([users]).where(users.c.id==1))\n",
    "for row in result:\n",
    "    print(row)"
   ]
  },
  {
   "cell_type": "code",
   "execution_count": 75,
   "metadata": {},
   "outputs": [
    {
     "name": "stdout",
     "output_type": "stream",
     "text": [
      "users JOIN addresses ON users.id = addresses.user_id\n"
     ]
    }
   ],
   "source": [
    "from sqlalchemy import join\n",
    "print(users.join(addresses))"
   ]
  },
  {
   "cell_type": "code",
   "execution_count": 76,
   "metadata": {},
   "outputs": [
    {
     "name": "stdout",
     "output_type": "stream",
     "text": [
      "users JOIN addresses ON users.id = addresses.user_id\n"
     ]
    }
   ],
   "source": [
    "print(users.join(addresses, users.c.id==addresses.c.user_id))"
   ]
  },
  {
   "cell_type": "code",
   "execution_count": 77,
   "metadata": {},
   "outputs": [
    {
     "name": "stdout",
     "output_type": "stream",
     "text": [
      "2018-07-10 15:13:46,309 INFO sqlalchemy.engine.base.Engine SELECT users.name, addresses.email_address \n",
      "FROM users JOIN addresses ON users.id = addresses.user_id\n",
      "2018-07-10 15:13:46,310 INFO sqlalchemy.engine.base.Engine ()\n"
     ]
    }
   ],
   "source": [
    "result = conn.execute(\n",
    "                select([users.c.name, addresses.c.email_address])\n",
    "                .select_from(users.join(addresses)))"
   ]
  },
  {
   "cell_type": "code",
   "execution_count": 79,
   "metadata": {},
   "outputs": [
    {
     "name": "stdout",
     "output_type": "stream",
     "text": [
      "('kim', 'anonymous.kim@test.com')\n",
      "('kim', 'unknow.lee@test.com')\n"
     ]
    }
   ],
   "source": [
    "rows = result.fetchall()\n",
    "for row in rows:\n",
    "    print(row)"
   ]
  },
  {
   "cell_type": "code",
   "execution_count": 82,
   "metadata": {
    "scrolled": true
   },
   "outputs": [
    {
     "name": "stdout",
     "output_type": "stream",
     "text": [
      "2018-07-10 15:21:38,836 INFO sqlalchemy.engine.base.Engine PRAGMA table_info(\"users\")\n",
      "2018-07-10 15:21:38,836 INFO sqlalchemy.engine.base.Engine ()\n",
      "2018-07-10 15:21:38,837 INFO sqlalchemy.engine.base.Engine PRAGMA table_info(\"addresses\")\n",
      "2018-07-10 15:21:38,837 INFO sqlalchemy.engine.base.Engine ()\n",
      "2018-07-10 15:21:38,838 INFO sqlalchemy.engine.base.Engine PRAGMA table_info(\"Artist\")\n",
      "2018-07-10 15:21:38,838 INFO sqlalchemy.engine.base.Engine ()\n",
      "2018-07-10 15:21:38,840 INFO sqlalchemy.engine.base.Engine PRAGMA table_info(\"Album\")\n",
      "2018-07-10 15:21:38,840 INFO sqlalchemy.engine.base.Engine ()\n",
      "2018-07-10 15:21:38,841 INFO sqlalchemy.engine.base.Engine PRAGMA table_info(\"Genre\")\n",
      "2018-07-10 15:21:38,841 INFO sqlalchemy.engine.base.Engine ()\n",
      "2018-07-10 15:21:38,842 INFO sqlalchemy.engine.base.Engine PRAGMA table_info(\"Track\")\n",
      "2018-07-10 15:21:38,843 INFO sqlalchemy.engine.base.Engine ()\n"
     ]
    }
   ],
   "source": [
    "artist = Table('Artist',meta,\n",
    "               Column('id', Integer, primary_key=True),\n",
    "               Column('name', String, nullable=False),\n",
    "               extend_existing=True)\n",
    "\n",
    "album = Table('Album',meta,\n",
    "               Column('id', Integer, primary_key=True),\n",
    "               Column('title', String, nullable=False),\n",
    "               Column('artist_id', Integer, ForeignKey('Artist.id')),\n",
    "               extend_existing=True)\n",
    "\n",
    "genre = Table('Genre',meta,\n",
    "               Column('id', Integer, primary_key=True),\n",
    "               Column('name', String, nullable=False),\n",
    "               extend_existing=True)\n",
    "\n",
    "track = Table('Track',meta,\n",
    "               Column('id', Integer, primary_key=True),\n",
    "               Column('title', String, nullable=False),\n",
    "               Column('length', Integer, nullable=False),\n",
    "               Column('rating', Integer, nullable=False),\n",
    "               Column('count', Integer, nullable=False),\n",
    "               Column('album_id', Integer, ForeignKey('Album.id')),\n",
    "               Column('genre_id', Integer, ForeignKey('Genre.id')),\n",
    "               extend_existing=True)\n",
    "\n",
    "meta.create_all(engine)"
   ]
  },
  {
   "cell_type": "code",
   "execution_count": 94,
   "metadata": {
    "scrolled": true
   },
   "outputs": [
    {
     "name": "stdout",
     "output_type": "stream",
     "text": [
      "2018-07-10 15:27:10,971 INFO sqlalchemy.engine.base.Engine \n",
      "DROP TABLE users\n",
      "2018-07-10 15:27:10,972 INFO sqlalchemy.engine.base.Engine ()\n",
      "2018-07-10 15:27:10,972 INFO sqlalchemy.engine.base.Engine ROLLBACK\n"
     ]
    },
    {
     "ename": "OperationalError",
     "evalue": "(sqlite3.OperationalError) no such table: users [SQL: '\\nDROP TABLE users'] (Background on this error at: http://sqlalche.me/e/e3q8)",
     "output_type": "error",
     "traceback": [
      "\u001b[1;31m---------------------------------------------------------------------------\u001b[0m",
      "\u001b[1;31mOperationalError\u001b[0m                          Traceback (most recent call last)",
      "\u001b[1;32mC:\\ProgramData\\Anaconda3\\lib\\site-packages\\sqlalchemy\\engine\\base.py\u001b[0m in \u001b[0;36m_execute_context\u001b[1;34m(self, dialect, constructor, statement, parameters, *args)\u001b[0m\n\u001b[0;32m   1192\u001b[0m                         \u001b[0mparameters\u001b[0m\u001b[1;33m,\u001b[0m\u001b[1;33m\u001b[0m\u001b[0m\n\u001b[1;32m-> 1193\u001b[1;33m                         context)\n\u001b[0m\u001b[0;32m   1194\u001b[0m         \u001b[1;32mexcept\u001b[0m \u001b[0mBaseException\u001b[0m \u001b[1;32mas\u001b[0m \u001b[0me\u001b[0m\u001b[1;33m:\u001b[0m\u001b[1;33m\u001b[0m\u001b[0m\n",
      "\u001b[1;32mC:\\ProgramData\\Anaconda3\\lib\\site-packages\\sqlalchemy\\engine\\default.py\u001b[0m in \u001b[0;36mdo_execute\u001b[1;34m(self, cursor, statement, parameters, context)\u001b[0m\n\u001b[0;32m    506\u001b[0m     \u001b[1;32mdef\u001b[0m \u001b[0mdo_execute\u001b[0m\u001b[1;33m(\u001b[0m\u001b[0mself\u001b[0m\u001b[1;33m,\u001b[0m \u001b[0mcursor\u001b[0m\u001b[1;33m,\u001b[0m \u001b[0mstatement\u001b[0m\u001b[1;33m,\u001b[0m \u001b[0mparameters\u001b[0m\u001b[1;33m,\u001b[0m \u001b[0mcontext\u001b[0m\u001b[1;33m=\u001b[0m\u001b[1;32mNone\u001b[0m\u001b[1;33m)\u001b[0m\u001b[1;33m:\u001b[0m\u001b[1;33m\u001b[0m\u001b[0m\n\u001b[1;32m--> 507\u001b[1;33m         \u001b[0mcursor\u001b[0m\u001b[1;33m.\u001b[0m\u001b[0mexecute\u001b[0m\u001b[1;33m(\u001b[0m\u001b[0mstatement\u001b[0m\u001b[1;33m,\u001b[0m \u001b[0mparameters\u001b[0m\u001b[1;33m)\u001b[0m\u001b[1;33m\u001b[0m\u001b[0m\n\u001b[0m\u001b[0;32m    508\u001b[0m \u001b[1;33m\u001b[0m\u001b[0m\n",
      "\u001b[1;31mOperationalError\u001b[0m: no such table: users",
      "\nThe above exception was the direct cause of the following exception:\n",
      "\u001b[1;31mOperationalError\u001b[0m                          Traceback (most recent call last)",
      "\u001b[1;32m<ipython-input-94-ac2da12188a8>\u001b[0m in \u001b[0;36m<module>\u001b[1;34m()\u001b[0m\n\u001b[1;32m----> 1\u001b[1;33m \u001b[0musers\u001b[0m\u001b[1;33m.\u001b[0m\u001b[0mdrop\u001b[0m\u001b[1;33m(\u001b[0m\u001b[0mengine\u001b[0m\u001b[1;33m)\u001b[0m\u001b[1;33m\u001b[0m\u001b[0m\n\u001b[0m\u001b[0;32m      2\u001b[0m \u001b[0maddresses\u001b[0m\u001b[1;33m.\u001b[0m\u001b[0mdrop\u001b[0m\u001b[1;33m(\u001b[0m\u001b[0mengine\u001b[0m\u001b[1;33m)\u001b[0m\u001b[1;33m\u001b[0m\u001b[0m\n\u001b[0;32m      3\u001b[0m \u001b[1;33m\u001b[0m\u001b[0m\n\u001b[0;32m      4\u001b[0m \u001b[1;32mfor\u001b[0m \u001b[0mrow\u001b[0m \u001b[1;32min\u001b[0m \u001b[0mmeta\u001b[0m\u001b[1;33m.\u001b[0m\u001b[0mtables\u001b[0m\u001b[1;33m:\u001b[0m\u001b[1;33m\u001b[0m\u001b[0m\n\u001b[0;32m      5\u001b[0m     \u001b[0mprint\u001b[0m\u001b[1;33m(\u001b[0m\u001b[0mrow\u001b[0m\u001b[1;33m)\u001b[0m\u001b[1;33m\u001b[0m\u001b[0m\n",
      "\u001b[1;32mC:\\ProgramData\\Anaconda3\\lib\\site-packages\\sqlalchemy\\sql\\schema.py\u001b[0m in \u001b[0;36mdrop\u001b[1;34m(self, bind, checkfirst)\u001b[0m\n\u001b[0;32m    792\u001b[0m         bind._run_visitor(ddl.SchemaDropper,\n\u001b[0;32m    793\u001b[0m                           \u001b[0mself\u001b[0m\u001b[1;33m,\u001b[0m\u001b[1;33m\u001b[0m\u001b[0m\n\u001b[1;32m--> 794\u001b[1;33m                           checkfirst=checkfirst)\n\u001b[0m\u001b[0;32m    795\u001b[0m \u001b[1;33m\u001b[0m\u001b[0m\n\u001b[0;32m    796\u001b[0m     def tometadata(self, metadata, schema=RETAIN_SCHEMA,\n",
      "\u001b[1;32mC:\\ProgramData\\Anaconda3\\lib\\site-packages\\sqlalchemy\\engine\\base.py\u001b[0m in \u001b[0;36m_run_visitor\u001b[1;34m(self, visitorcallable, element, connection, **kwargs)\u001b[0m\n\u001b[0;32m   1938\u001b[0m                      connection=None, **kwargs):\n\u001b[0;32m   1939\u001b[0m         \u001b[1;32mwith\u001b[0m \u001b[0mself\u001b[0m\u001b[1;33m.\u001b[0m\u001b[0m_optional_conn_ctx_manager\u001b[0m\u001b[1;33m(\u001b[0m\u001b[0mconnection\u001b[0m\u001b[1;33m)\u001b[0m \u001b[1;32mas\u001b[0m \u001b[0mconn\u001b[0m\u001b[1;33m:\u001b[0m\u001b[1;33m\u001b[0m\u001b[0m\n\u001b[1;32m-> 1940\u001b[1;33m             \u001b[0mconn\u001b[0m\u001b[1;33m.\u001b[0m\u001b[0m_run_visitor\u001b[0m\u001b[1;33m(\u001b[0m\u001b[0mvisitorcallable\u001b[0m\u001b[1;33m,\u001b[0m \u001b[0melement\u001b[0m\u001b[1;33m,\u001b[0m \u001b[1;33m**\u001b[0m\u001b[0mkwargs\u001b[0m\u001b[1;33m)\u001b[0m\u001b[1;33m\u001b[0m\u001b[0m\n\u001b[0m\u001b[0;32m   1941\u001b[0m \u001b[1;33m\u001b[0m\u001b[0m\n\u001b[0;32m   1942\u001b[0m     \u001b[1;32mclass\u001b[0m \u001b[0m_trans_ctx\u001b[0m\u001b[1;33m(\u001b[0m\u001b[0mobject\u001b[0m\u001b[1;33m)\u001b[0m\u001b[1;33m:\u001b[0m\u001b[1;33m\u001b[0m\u001b[0m\n",
      "\u001b[1;32mC:\\ProgramData\\Anaconda3\\lib\\site-packages\\sqlalchemy\\engine\\base.py\u001b[0m in \u001b[0;36m_run_visitor\u001b[1;34m(self, visitorcallable, element, **kwargs)\u001b[0m\n\u001b[0;32m   1547\u001b[0m     \u001b[1;32mdef\u001b[0m \u001b[0m_run_visitor\u001b[0m\u001b[1;33m(\u001b[0m\u001b[0mself\u001b[0m\u001b[1;33m,\u001b[0m \u001b[0mvisitorcallable\u001b[0m\u001b[1;33m,\u001b[0m \u001b[0melement\u001b[0m\u001b[1;33m,\u001b[0m \u001b[1;33m**\u001b[0m\u001b[0mkwargs\u001b[0m\u001b[1;33m)\u001b[0m\u001b[1;33m:\u001b[0m\u001b[1;33m\u001b[0m\u001b[0m\n\u001b[0;32m   1548\u001b[0m         visitorcallable(self.dialect, self,\n\u001b[1;32m-> 1549\u001b[1;33m                         **kwargs).traverse_single(element)\n\u001b[0m\u001b[0;32m   1550\u001b[0m \u001b[1;33m\u001b[0m\u001b[0m\n\u001b[0;32m   1551\u001b[0m \u001b[1;33m\u001b[0m\u001b[0m\n",
      "\u001b[1;32mC:\\ProgramData\\Anaconda3\\lib\\site-packages\\sqlalchemy\\sql\\visitors.py\u001b[0m in \u001b[0;36mtraverse_single\u001b[1;34m(self, obj, **kw)\u001b[0m\n\u001b[0;32m    119\u001b[0m             \u001b[0mmeth\u001b[0m \u001b[1;33m=\u001b[0m \u001b[0mgetattr\u001b[0m\u001b[1;33m(\u001b[0m\u001b[0mv\u001b[0m\u001b[1;33m,\u001b[0m \u001b[1;34m\"visit_%s\"\u001b[0m \u001b[1;33m%\u001b[0m \u001b[0mobj\u001b[0m\u001b[1;33m.\u001b[0m\u001b[0m__visit_name__\u001b[0m\u001b[1;33m,\u001b[0m \u001b[1;32mNone\u001b[0m\u001b[1;33m)\u001b[0m\u001b[1;33m\u001b[0m\u001b[0m\n\u001b[0;32m    120\u001b[0m             \u001b[1;32mif\u001b[0m \u001b[0mmeth\u001b[0m\u001b[1;33m:\u001b[0m\u001b[1;33m\u001b[0m\u001b[0m\n\u001b[1;32m--> 121\u001b[1;33m                 \u001b[1;32mreturn\u001b[0m \u001b[0mmeth\u001b[0m\u001b[1;33m(\u001b[0m\u001b[0mobj\u001b[0m\u001b[1;33m,\u001b[0m \u001b[1;33m**\u001b[0m\u001b[0mkw\u001b[0m\u001b[1;33m)\u001b[0m\u001b[1;33m\u001b[0m\u001b[0m\n\u001b[0m\u001b[0;32m    122\u001b[0m \u001b[1;33m\u001b[0m\u001b[0m\n\u001b[0;32m    123\u001b[0m     \u001b[1;32mdef\u001b[0m \u001b[0miterate\u001b[0m\u001b[1;33m(\u001b[0m\u001b[0mself\u001b[0m\u001b[1;33m,\u001b[0m \u001b[0mobj\u001b[0m\u001b[1;33m)\u001b[0m\u001b[1;33m:\u001b[0m\u001b[1;33m\u001b[0m\u001b[0m\n",
      "\u001b[1;32mC:\\ProgramData\\Anaconda3\\lib\\site-packages\\sqlalchemy\\sql\\ddl.py\u001b[0m in \u001b[0;36mvisit_table\u001b[1;34m(self, table, drop_ok, _is_metadata_operation)\u001b[0m\n\u001b[0;32m    953\u001b[0m                 \u001b[0mself\u001b[0m\u001b[1;33m.\u001b[0m\u001b[0mtraverse_single\u001b[0m\u001b[1;33m(\u001b[0m\u001b[0mcolumn\u001b[0m\u001b[1;33m.\u001b[0m\u001b[0mdefault\u001b[0m\u001b[1;33m)\u001b[0m\u001b[1;33m\u001b[0m\u001b[0m\n\u001b[0;32m    954\u001b[0m \u001b[1;33m\u001b[0m\u001b[0m\n\u001b[1;32m--> 955\u001b[1;33m         \u001b[0mself\u001b[0m\u001b[1;33m.\u001b[0m\u001b[0mconnection\u001b[0m\u001b[1;33m.\u001b[0m\u001b[0mexecute\u001b[0m\u001b[1;33m(\u001b[0m\u001b[0mDropTable\u001b[0m\u001b[1;33m(\u001b[0m\u001b[0mtable\u001b[0m\u001b[1;33m)\u001b[0m\u001b[1;33m)\u001b[0m\u001b[1;33m\u001b[0m\u001b[0m\n\u001b[0m\u001b[0;32m    956\u001b[0m \u001b[1;33m\u001b[0m\u001b[0m\n\u001b[0;32m    957\u001b[0m         table.dispatch.after_drop(\n",
      "\u001b[1;32mC:\\ProgramData\\Anaconda3\\lib\\site-packages\\sqlalchemy\\engine\\base.py\u001b[0m in \u001b[0;36mexecute\u001b[1;34m(self, object, *multiparams, **params)\u001b[0m\n\u001b[0;32m    946\u001b[0m             \u001b[1;32mraise\u001b[0m \u001b[0mexc\u001b[0m\u001b[1;33m.\u001b[0m\u001b[0mObjectNotExecutableError\u001b[0m\u001b[1;33m(\u001b[0m\u001b[0mobject\u001b[0m\u001b[1;33m)\u001b[0m\u001b[1;33m\u001b[0m\u001b[0m\n\u001b[0;32m    947\u001b[0m         \u001b[1;32melse\u001b[0m\u001b[1;33m:\u001b[0m\u001b[1;33m\u001b[0m\u001b[0m\n\u001b[1;32m--> 948\u001b[1;33m             \u001b[1;32mreturn\u001b[0m \u001b[0mmeth\u001b[0m\u001b[1;33m(\u001b[0m\u001b[0mself\u001b[0m\u001b[1;33m,\u001b[0m \u001b[0mmultiparams\u001b[0m\u001b[1;33m,\u001b[0m \u001b[0mparams\u001b[0m\u001b[1;33m)\u001b[0m\u001b[1;33m\u001b[0m\u001b[0m\n\u001b[0m\u001b[0;32m    949\u001b[0m \u001b[1;33m\u001b[0m\u001b[0m\n\u001b[0;32m    950\u001b[0m     \u001b[1;32mdef\u001b[0m \u001b[0m_execute_function\u001b[0m\u001b[1;33m(\u001b[0m\u001b[0mself\u001b[0m\u001b[1;33m,\u001b[0m \u001b[0mfunc\u001b[0m\u001b[1;33m,\u001b[0m \u001b[0mmultiparams\u001b[0m\u001b[1;33m,\u001b[0m \u001b[0mparams\u001b[0m\u001b[1;33m)\u001b[0m\u001b[1;33m:\u001b[0m\u001b[1;33m\u001b[0m\u001b[0m\n",
      "\u001b[1;32mC:\\ProgramData\\Anaconda3\\lib\\site-packages\\sqlalchemy\\sql\\ddl.py\u001b[0m in \u001b[0;36m_execute_on_connection\u001b[1;34m(self, connection, multiparams, params)\u001b[0m\n\u001b[0;32m     66\u001b[0m \u001b[1;33m\u001b[0m\u001b[0m\n\u001b[0;32m     67\u001b[0m     \u001b[1;32mdef\u001b[0m \u001b[0m_execute_on_connection\u001b[0m\u001b[1;33m(\u001b[0m\u001b[0mself\u001b[0m\u001b[1;33m,\u001b[0m \u001b[0mconnection\u001b[0m\u001b[1;33m,\u001b[0m \u001b[0mmultiparams\u001b[0m\u001b[1;33m,\u001b[0m \u001b[0mparams\u001b[0m\u001b[1;33m)\u001b[0m\u001b[1;33m:\u001b[0m\u001b[1;33m\u001b[0m\u001b[0m\n\u001b[1;32m---> 68\u001b[1;33m         \u001b[1;32mreturn\u001b[0m \u001b[0mconnection\u001b[0m\u001b[1;33m.\u001b[0m\u001b[0m_execute_ddl\u001b[0m\u001b[1;33m(\u001b[0m\u001b[0mself\u001b[0m\u001b[1;33m,\u001b[0m \u001b[0mmultiparams\u001b[0m\u001b[1;33m,\u001b[0m \u001b[0mparams\u001b[0m\u001b[1;33m)\u001b[0m\u001b[1;33m\u001b[0m\u001b[0m\n\u001b[0m\u001b[0;32m     69\u001b[0m \u001b[1;33m\u001b[0m\u001b[0m\n\u001b[0;32m     70\u001b[0m     \u001b[1;32mdef\u001b[0m \u001b[0mexecute\u001b[0m\u001b[1;33m(\u001b[0m\u001b[0mself\u001b[0m\u001b[1;33m,\u001b[0m \u001b[0mbind\u001b[0m\u001b[1;33m=\u001b[0m\u001b[1;32mNone\u001b[0m\u001b[1;33m,\u001b[0m \u001b[0mtarget\u001b[0m\u001b[1;33m=\u001b[0m\u001b[1;32mNone\u001b[0m\u001b[1;33m)\u001b[0m\u001b[1;33m:\u001b[0m\u001b[1;33m\u001b[0m\u001b[0m\n",
      "\u001b[1;32mC:\\ProgramData\\Anaconda3\\lib\\site-packages\\sqlalchemy\\engine\\base.py\u001b[0m in \u001b[0;36m_execute_ddl\u001b[1;34m(self, ddl, multiparams, params)\u001b[0m\n\u001b[0;32m   1007\u001b[0m             \u001b[0mcompiled\u001b[0m\u001b[1;33m,\u001b[0m\u001b[1;33m\u001b[0m\u001b[0m\n\u001b[0;32m   1008\u001b[0m             \u001b[1;32mNone\u001b[0m\u001b[1;33m,\u001b[0m\u001b[1;33m\u001b[0m\u001b[0m\n\u001b[1;32m-> 1009\u001b[1;33m             \u001b[0mcompiled\u001b[0m\u001b[1;33m\u001b[0m\u001b[0m\n\u001b[0m\u001b[0;32m   1010\u001b[0m         )\n\u001b[0;32m   1011\u001b[0m         \u001b[1;32mif\u001b[0m \u001b[0mself\u001b[0m\u001b[1;33m.\u001b[0m\u001b[0m_has_events\u001b[0m \u001b[1;32mor\u001b[0m \u001b[0mself\u001b[0m\u001b[1;33m.\u001b[0m\u001b[0mengine\u001b[0m\u001b[1;33m.\u001b[0m\u001b[0m_has_events\u001b[0m\u001b[1;33m:\u001b[0m\u001b[1;33m\u001b[0m\u001b[0m\n",
      "\u001b[1;32mC:\\ProgramData\\Anaconda3\\lib\\site-packages\\sqlalchemy\\engine\\base.py\u001b[0m in \u001b[0;36m_execute_context\u001b[1;34m(self, dialect, constructor, statement, parameters, *args)\u001b[0m\n\u001b[0;32m   1198\u001b[0m                 \u001b[0mparameters\u001b[0m\u001b[1;33m,\u001b[0m\u001b[1;33m\u001b[0m\u001b[0m\n\u001b[0;32m   1199\u001b[0m                 \u001b[0mcursor\u001b[0m\u001b[1;33m,\u001b[0m\u001b[1;33m\u001b[0m\u001b[0m\n\u001b[1;32m-> 1200\u001b[1;33m                 context)\n\u001b[0m\u001b[0;32m   1201\u001b[0m \u001b[1;33m\u001b[0m\u001b[0m\n\u001b[0;32m   1202\u001b[0m         \u001b[1;32mif\u001b[0m \u001b[0mself\u001b[0m\u001b[1;33m.\u001b[0m\u001b[0m_has_events\u001b[0m \u001b[1;32mor\u001b[0m \u001b[0mself\u001b[0m\u001b[1;33m.\u001b[0m\u001b[0mengine\u001b[0m\u001b[1;33m.\u001b[0m\u001b[0m_has_events\u001b[0m\u001b[1;33m:\u001b[0m\u001b[1;33m\u001b[0m\u001b[0m\n",
      "\u001b[1;32mC:\\ProgramData\\Anaconda3\\lib\\site-packages\\sqlalchemy\\engine\\base.py\u001b[0m in \u001b[0;36m_handle_dbapi_exception\u001b[1;34m(self, e, statement, parameters, cursor, context)\u001b[0m\n\u001b[0;32m   1411\u001b[0m                 util.raise_from_cause(\n\u001b[0;32m   1412\u001b[0m                     \u001b[0msqlalchemy_exception\u001b[0m\u001b[1;33m,\u001b[0m\u001b[1;33m\u001b[0m\u001b[0m\n\u001b[1;32m-> 1413\u001b[1;33m                     \u001b[0mexc_info\u001b[0m\u001b[1;33m\u001b[0m\u001b[0m\n\u001b[0m\u001b[0;32m   1414\u001b[0m                 )\n\u001b[0;32m   1415\u001b[0m             \u001b[1;32melse\u001b[0m\u001b[1;33m:\u001b[0m\u001b[1;33m\u001b[0m\u001b[0m\n",
      "\u001b[1;32mC:\\ProgramData\\Anaconda3\\lib\\site-packages\\sqlalchemy\\util\\compat.py\u001b[0m in \u001b[0;36mraise_from_cause\u001b[1;34m(exception, exc_info)\u001b[0m\n\u001b[0;32m    201\u001b[0m     \u001b[0mexc_type\u001b[0m\u001b[1;33m,\u001b[0m \u001b[0mexc_value\u001b[0m\u001b[1;33m,\u001b[0m \u001b[0mexc_tb\u001b[0m \u001b[1;33m=\u001b[0m \u001b[0mexc_info\u001b[0m\u001b[1;33m\u001b[0m\u001b[0m\n\u001b[0;32m    202\u001b[0m     \u001b[0mcause\u001b[0m \u001b[1;33m=\u001b[0m \u001b[0mexc_value\u001b[0m \u001b[1;32mif\u001b[0m \u001b[0mexc_value\u001b[0m \u001b[1;32mis\u001b[0m \u001b[1;32mnot\u001b[0m \u001b[0mexception\u001b[0m \u001b[1;32melse\u001b[0m \u001b[1;32mNone\u001b[0m\u001b[1;33m\u001b[0m\u001b[0m\n\u001b[1;32m--> 203\u001b[1;33m     \u001b[0mreraise\u001b[0m\u001b[1;33m(\u001b[0m\u001b[0mtype\u001b[0m\u001b[1;33m(\u001b[0m\u001b[0mexception\u001b[0m\u001b[1;33m)\u001b[0m\u001b[1;33m,\u001b[0m \u001b[0mexception\u001b[0m\u001b[1;33m,\u001b[0m \u001b[0mtb\u001b[0m\u001b[1;33m=\u001b[0m\u001b[0mexc_tb\u001b[0m\u001b[1;33m,\u001b[0m \u001b[0mcause\u001b[0m\u001b[1;33m=\u001b[0m\u001b[0mcause\u001b[0m\u001b[1;33m)\u001b[0m\u001b[1;33m\u001b[0m\u001b[0m\n\u001b[0m\u001b[0;32m    204\u001b[0m \u001b[1;33m\u001b[0m\u001b[0m\n\u001b[0;32m    205\u001b[0m \u001b[1;32mif\u001b[0m \u001b[0mpy3k\u001b[0m\u001b[1;33m:\u001b[0m\u001b[1;33m\u001b[0m\u001b[0m\n",
      "\u001b[1;32mC:\\ProgramData\\Anaconda3\\lib\\site-packages\\sqlalchemy\\util\\compat.py\u001b[0m in \u001b[0;36mreraise\u001b[1;34m(tp, value, tb, cause)\u001b[0m\n\u001b[0;32m    184\u001b[0m             \u001b[0mvalue\u001b[0m\u001b[1;33m.\u001b[0m\u001b[0m__cause__\u001b[0m \u001b[1;33m=\u001b[0m \u001b[0mcause\u001b[0m\u001b[1;33m\u001b[0m\u001b[0m\n\u001b[0;32m    185\u001b[0m         \u001b[1;32mif\u001b[0m \u001b[0mvalue\u001b[0m\u001b[1;33m.\u001b[0m\u001b[0m__traceback__\u001b[0m \u001b[1;32mis\u001b[0m \u001b[1;32mnot\u001b[0m \u001b[0mtb\u001b[0m\u001b[1;33m:\u001b[0m\u001b[1;33m\u001b[0m\u001b[0m\n\u001b[1;32m--> 186\u001b[1;33m             \u001b[1;32mraise\u001b[0m \u001b[0mvalue\u001b[0m\u001b[1;33m.\u001b[0m\u001b[0mwith_traceback\u001b[0m\u001b[1;33m(\u001b[0m\u001b[0mtb\u001b[0m\u001b[1;33m)\u001b[0m\u001b[1;33m\u001b[0m\u001b[0m\n\u001b[0m\u001b[0;32m    187\u001b[0m         \u001b[1;32mraise\u001b[0m \u001b[0mvalue\u001b[0m\u001b[1;33m\u001b[0m\u001b[0m\n\u001b[0;32m    188\u001b[0m \u001b[1;33m\u001b[0m\u001b[0m\n",
      "\u001b[1;32mC:\\ProgramData\\Anaconda3\\lib\\site-packages\\sqlalchemy\\engine\\base.py\u001b[0m in \u001b[0;36m_execute_context\u001b[1;34m(self, dialect, constructor, statement, parameters, *args)\u001b[0m\n\u001b[0;32m   1191\u001b[0m                         \u001b[0mstatement\u001b[0m\u001b[1;33m,\u001b[0m\u001b[1;33m\u001b[0m\u001b[0m\n\u001b[0;32m   1192\u001b[0m                         \u001b[0mparameters\u001b[0m\u001b[1;33m,\u001b[0m\u001b[1;33m\u001b[0m\u001b[0m\n\u001b[1;32m-> 1193\u001b[1;33m                         context)\n\u001b[0m\u001b[0;32m   1194\u001b[0m         \u001b[1;32mexcept\u001b[0m \u001b[0mBaseException\u001b[0m \u001b[1;32mas\u001b[0m \u001b[0me\u001b[0m\u001b[1;33m:\u001b[0m\u001b[1;33m\u001b[0m\u001b[0m\n\u001b[0;32m   1195\u001b[0m             self._handle_dbapi_exception(\n",
      "\u001b[1;32mC:\\ProgramData\\Anaconda3\\lib\\site-packages\\sqlalchemy\\engine\\default.py\u001b[0m in \u001b[0;36mdo_execute\u001b[1;34m(self, cursor, statement, parameters, context)\u001b[0m\n\u001b[0;32m    505\u001b[0m \u001b[1;33m\u001b[0m\u001b[0m\n\u001b[0;32m    506\u001b[0m     \u001b[1;32mdef\u001b[0m \u001b[0mdo_execute\u001b[0m\u001b[1;33m(\u001b[0m\u001b[0mself\u001b[0m\u001b[1;33m,\u001b[0m \u001b[0mcursor\u001b[0m\u001b[1;33m,\u001b[0m \u001b[0mstatement\u001b[0m\u001b[1;33m,\u001b[0m \u001b[0mparameters\u001b[0m\u001b[1;33m,\u001b[0m \u001b[0mcontext\u001b[0m\u001b[1;33m=\u001b[0m\u001b[1;32mNone\u001b[0m\u001b[1;33m)\u001b[0m\u001b[1;33m:\u001b[0m\u001b[1;33m\u001b[0m\u001b[0m\n\u001b[1;32m--> 507\u001b[1;33m         \u001b[0mcursor\u001b[0m\u001b[1;33m.\u001b[0m\u001b[0mexecute\u001b[0m\u001b[1;33m(\u001b[0m\u001b[0mstatement\u001b[0m\u001b[1;33m,\u001b[0m \u001b[0mparameters\u001b[0m\u001b[1;33m)\u001b[0m\u001b[1;33m\u001b[0m\u001b[0m\n\u001b[0m\u001b[0;32m    508\u001b[0m \u001b[1;33m\u001b[0m\u001b[0m\n\u001b[0;32m    509\u001b[0m     \u001b[1;32mdef\u001b[0m \u001b[0mdo_execute_no_params\u001b[0m\u001b[1;33m(\u001b[0m\u001b[0mself\u001b[0m\u001b[1;33m,\u001b[0m \u001b[0mcursor\u001b[0m\u001b[1;33m,\u001b[0m \u001b[0mstatement\u001b[0m\u001b[1;33m,\u001b[0m \u001b[0mcontext\u001b[0m\u001b[1;33m=\u001b[0m\u001b[1;32mNone\u001b[0m\u001b[1;33m)\u001b[0m\u001b[1;33m:\u001b[0m\u001b[1;33m\u001b[0m\u001b[0m\n",
      "\u001b[1;31mOperationalError\u001b[0m: (sqlite3.OperationalError) no such table: users [SQL: '\\nDROP TABLE users'] (Background on this error at: http://sqlalche.me/e/e3q8)"
     ]
    }
   ],
   "source": [
    "users.drop(engine)\n",
    "addresses.drop(engine)\n",
    "\n",
    "for row in meta.tables:\n",
    "    print(row)\n",
    "for row in engine.table_names():\n",
    "    print(row)"
   ]
  },
  {
   "cell_type": "code",
   "execution_count": 95,
   "metadata": {
    "scrolled": true
   },
   "outputs": [
    {
     "name": "stdout",
     "output_type": "stream",
     "text": [
      "2018-07-10 15:32:58,412 INFO sqlalchemy.engine.base.Engine INSERT INTO \"Artist\" (name) VALUES (?)\n",
      "2018-07-10 15:32:58,413 INFO sqlalchemy.engine.base.Engine (('Led Zepplin',), ('AC/DC',))\n",
      "2018-07-10 15:32:58,415 INFO sqlalchemy.engine.base.Engine COMMIT\n",
      "2018-07-10 15:32:58,421 INFO sqlalchemy.engine.base.Engine INSERT INTO \"Album\" (title, artist_id) VALUES (?, ?)\n",
      "2018-07-10 15:32:58,422 INFO sqlalchemy.engine.base.Engine (('IV', 1), ('Who Made Who', 2))\n",
      "2018-07-10 15:32:58,423 INFO sqlalchemy.engine.base.Engine COMMIT\n",
      "2018-07-10 15:32:58,428 INFO sqlalchemy.engine.base.Engine INSERT INTO \"Genre\" (name) VALUES (?)\n",
      "2018-07-10 15:32:58,428 INFO sqlalchemy.engine.base.Engine (('Rock',), ('Metal',))\n",
      "2018-07-10 15:32:58,430 INFO sqlalchemy.engine.base.Engine COMMIT\n",
      "2018-07-10 15:32:58,437 INFO sqlalchemy.engine.base.Engine INSERT INTO \"Track\" (title, length, rating, count, album_id, genre_id) VALUES (?, ?, ?, ?, ?, ?)\n",
      "2018-07-10 15:32:58,438 INFO sqlalchemy.engine.base.Engine (('Black Dog', 297, 5, 0, 1, 1), ('Stairway', 482, 5, 0, 1, 1), ('About to rock', 313, 5, 0, 2, 2), ('Who Made Who', 297, 5, 0, 2, 2))\n",
      "2018-07-10 15:32:58,439 INFO sqlalchemy.engine.base.Engine COMMIT\n"
     ]
    },
    {
     "data": {
      "text/plain": [
       "<sqlalchemy.engine.result.ResultProxy at 0x1ad631e8320>"
      ]
     },
     "execution_count": 95,
     "metadata": {},
     "output_type": "execute_result"
    }
   ],
   "source": [
    "conn.execute(artist.insert(), [\n",
    "    {'name':'Led Zepplin'},\n",
    "    {'name':'AC/DC'}  \n",
    "])\n",
    "\n",
    "conn.execute(album.insert(), [\n",
    "    {'title':'IV', 'artist_id':1},\n",
    "    {'title':'Who Made Who', \"artist_id\":2}  \n",
    "])\n",
    "\n",
    "conn.execute(genre.insert(), [\n",
    "    {'name':'Rock'},\n",
    "    {'name':'Metal'}  \n",
    "])\n",
    "\n",
    "conn.execute(track.insert(), [\n",
    "    {'title':'Black Dog','rating':5, 'length':297, 'count':0, 'album_id':1, 'genre_id':1},\n",
    "    {'title':'Stairway','rating':5, 'length':482, 'count':0, 'album_id':1, 'genre_id':1},\n",
    "    {'title':'About to rock','rating':5, 'length':313, 'count':0, 'album_id':2, 'genre_id':2},\n",
    "    {'title':'Who Made Who','rating':5, 'length':297, 'count':0, 'album_id':2, 'genre_id':2},\n",
    "])"
   ]
  },
  {
   "cell_type": "code",
   "execution_count": 98,
   "metadata": {},
   "outputs": [
    {
     "name": "stdout",
     "output_type": "stream",
     "text": [
      "2018-07-10 15:36:22,022 INFO sqlalchemy.engine.base.Engine SELECT \"Artist\".id, \"Artist\".name \n",
      "FROM \"Artist\"\n",
      "2018-07-10 15:36:22,023 INFO sqlalchemy.engine.base.Engine ()\n",
      "(1, 'Led Zepplin')\n",
      "(2, 'AC/DC')\n"
     ]
    }
   ],
   "source": [
    "artistResult = conn.execute(artist.select())\n",
    "for row in artistResult:\n",
    "    print(row)"
   ]
  },
  {
   "cell_type": "code",
   "execution_count": 97,
   "metadata": {},
   "outputs": [
    {
     "name": "stdout",
     "output_type": "stream",
     "text": [
      "2018-07-10 15:36:10,051 INFO sqlalchemy.engine.base.Engine SELECT \"Album\".id, \"Album\".title, \"Album\".artist_id \n",
      "FROM \"Album\"\n",
      "2018-07-10 15:36:10,052 INFO sqlalchemy.engine.base.Engine ()\n",
      "(1, 'IV', 1)\n",
      "(2, 'Who Made Who', 2)\n"
     ]
    }
   ],
   "source": [
    "albumResult = conn.execute(album.select())\n",
    "for row in albumResult:\n",
    "    print(row)"
   ]
  },
  {
   "cell_type": "code",
   "execution_count": 99,
   "metadata": {},
   "outputs": [
    {
     "name": "stdout",
     "output_type": "stream",
     "text": [
      "2018-07-10 15:37:00,373 INFO sqlalchemy.engine.base.Engine SELECT \"Genre\".id, \"Genre\".name \n",
      "FROM \"Genre\"\n",
      "2018-07-10 15:37:00,374 INFO sqlalchemy.engine.base.Engine ()\n",
      "(1, 'Rock')\n",
      "(2, 'Metal')\n"
     ]
    }
   ],
   "source": [
    "genreResult = conn.execute(genre.select())\n",
    "for row in genreResult:\n",
    "    print(row)"
   ]
  },
  {
   "cell_type": "code",
   "execution_count": 106,
   "metadata": {},
   "outputs": [
    {
     "name": "stdout",
     "output_type": "stream",
     "text": [
      "2018-07-10 15:41:30,808 INFO sqlalchemy.engine.base.Engine SELECT \"Track\".id, \"Track\".title, \"Track\".length, \"Track\".rating, \"Track\".count, \"Track\".album_id, \"Track\".genre_id \n",
      "FROM \"Track\"\n",
      "2018-07-10 15:41:30,809 INFO sqlalchemy.engine.base.Engine ()\n",
      "(1, 'Black Dog', 297, 5, 0, 1, 1)\n",
      "(2, 'Stairway', 482, 5, 0, 1, 1)\n",
      "(3, 'About to rock', 313, 5, 0, 2, 2)\n",
      "(4, 'Who Made Who', 297, 5, 0, 2, 2)\n"
     ]
    }
   ],
   "source": [
    "trackResult = conn.execute(track.select())\n",
    "for row in trackResult:\n",
    "    print(row)"
   ]
  },
  {
   "cell_type": "code",
   "execution_count": 111,
   "metadata": {},
   "outputs": [
    {
     "name": "stdout",
     "output_type": "stream",
     "text": [
      "2018-07-10 15:43:48,144 INFO sqlalchemy.engine.base.Engine SELECT \"Track\".id, \"Track\".title, \"Track\".length, \"Track\".rating, \"Track\".count, \"Track\".album_id, \"Track\".genre_id \n",
      "FROM \"Track\" \n",
      "WHERE \"Track\".album_id = ? AND (\"Track\".genre_id = ? OR \"Track\".genre_id = ?)\n",
      "2018-07-10 15:43:48,145 INFO sqlalchemy.engine.base.Engine (1, 1, 2)\n",
      "(1, 'Black Dog', 297, 5, 0, 1, 1)\n",
      "(2, 'Stairway', 482, 5, 0, 1, 1)\n"
     ]
    }
   ],
   "source": [
    "trackResult = conn.execute(select([track])\n",
    "                     .where(\n",
    "                         and_(track.c.album_id == 1,\n",
    "                              or_(track.c.genre_id == 1,\n",
    "                                  track.c.genre_id == 2)\n",
    "                             )\n",
    "                         )) \n",
    "for row in trackResult:\n",
    "    print(row)"
   ]
  },
  {
   "cell_type": "code",
   "execution_count": 112,
   "metadata": {},
   "outputs": [
    {
     "name": "stdout",
     "output_type": "stream",
     "text": [
      "2018-07-10 15:45:20,336 INFO sqlalchemy.engine.base.Engine UPDATE \"Track\" SET genre_id=? WHERE \"Track\".id = ?\n",
      "2018-07-10 15:45:20,338 INFO sqlalchemy.engine.base.Engine (2, 2)\n",
      "2018-07-10 15:45:20,339 INFO sqlalchemy.engine.base.Engine COMMIT\n",
      "2018-07-10 15:45:20,347 INFO sqlalchemy.engine.base.Engine UPDATE \"Track\" SET genre_id=? WHERE \"Track\".id = ?\n",
      "2018-07-10 15:45:20,348 INFO sqlalchemy.engine.base.Engine (1, 3)\n",
      "2018-07-10 15:45:20,349 INFO sqlalchemy.engine.base.Engine COMMIT\n"
     ]
    },
    {
     "data": {
      "text/plain": [
       "<sqlalchemy.engine.result.ResultProxy at 0x1ad6366e7b8>"
      ]
     },
     "execution_count": 112,
     "metadata": {},
     "output_type": "execute_result"
    }
   ],
   "source": [
    "from sqlalchemy import update\n",
    "\n",
    "conn.execute(track.update().values(genre_id = 2)\n",
    "             .where(track.c.id == 2))\n",
    "conn.execute(track.update().values(genre_id = 1)\n",
    "             .where(track.c.id == 3))"
   ]
  },
  {
   "cell_type": "code",
   "execution_count": 113,
   "metadata": {},
   "outputs": [
    {
     "name": "stdout",
     "output_type": "stream",
     "text": [
      "2018-07-10 15:46:52,213 INFO sqlalchemy.engine.base.Engine SELECT \"Track\".id, \"Track\".title, \"Track\".length, \"Track\".rating, \"Track\".count, \"Track\".album_id, \"Track\".genre_id \n",
      "FROM \"Track\" \n",
      "WHERE \"Track\".album_id = ? AND (\"Track\".genre_id = ? OR \"Track\".genre_id = ?)\n",
      "2018-07-10 15:46:52,214 INFO sqlalchemy.engine.base.Engine (1, 1, 2)\n",
      "(1, 'Black Dog', 297, 5, 0, 1, 1)\n",
      "(2, 'Stairway', 482, 5, 0, 1, 2)\n"
     ]
    }
   ],
   "source": [
    "trackResult = conn.execute(select([track])\n",
    "                     .where(\n",
    "                         and_(track.c.album_id == 1,\n",
    "                              or_(track.c.genre_id == 1,\n",
    "                                  track.c.genre_id == 2)\n",
    "                             )\n",
    "                         )) \n",
    "for row in trackResult:\n",
    "    print(row)"
   ]
  },
  {
   "cell_type": "code",
   "execution_count": 114,
   "metadata": {},
   "outputs": [
    {
     "name": "stdout",
     "output_type": "stream",
     "text": [
      "\"Track\" JOIN \"Album\" ON \"Album\".id = \"Track\".album_id\n"
     ]
    }
   ],
   "source": [
    "print(track.join(album))"
   ]
  },
  {
   "cell_type": "code",
   "execution_count": 115,
   "metadata": {},
   "outputs": [
    {
     "name": "stdout",
     "output_type": "stream",
     "text": [
      "2018-07-10 15:48:49,672 INFO sqlalchemy.engine.base.Engine SELECT \"Track\".id, \"Track\".title, \"Track\".length, \"Track\".rating, \"Track\".count, \"Track\".album_id, \"Track\".genre_id \n",
      "FROM \"Track\" JOIN \"Album\" ON \"Album\".id = \"Track\".album_id\n",
      "2018-07-10 15:48:49,673 INFO sqlalchemy.engine.base.Engine ()\n",
      "(1, 'Black Dog', 297, 5, 0, 1, 1)\n",
      "(2, 'Stairway', 482, 5, 0, 1, 2)\n",
      "(3, 'About to rock', 313, 5, 0, 2, 1)\n",
      "(4, 'Who Made Who', 297, 5, 0, 2, 2)\n"
     ]
    }
   ],
   "source": [
    "result = conn.execute(track.select()\n",
    "             .select_from(track.join(album)))\n",
    "for row in result:\n",
    "    print(row)"
   ]
  },
  {
   "cell_type": "code",
   "execution_count": 117,
   "metadata": {},
   "outputs": [
    {
     "name": "stdout",
     "output_type": "stream",
     "text": [
      "2018-07-10 15:51:14,361 INFO sqlalchemy.engine.base.Engine SELECT \"Track\".title, \"Album\".title \n",
      "FROM \"Track\" JOIN \"Album\" ON \"Album\".id = \"Track\".album_id\n",
      "2018-07-10 15:51:14,362 INFO sqlalchemy.engine.base.Engine ()\n",
      "('Black Dog', 'IV')\n",
      "('Stairway', 'IV')\n",
      "('About to rock', 'Who Made Who')\n",
      "('Who Made Who', 'Who Made Who')\n"
     ]
    }
   ],
   "source": [
    "result = conn.execute(select([track.c.title, album.c.title]).select_from(track.join(album)))\n",
    "for row in result:\n",
    "    print(row)"
   ]
  },
  {
   "cell_type": "code",
   "execution_count": 118,
   "metadata": {},
   "outputs": [
    {
     "name": "stdout",
     "output_type": "stream",
     "text": [
      "2018-07-10 16:18:47,782 INFO sqlalchemy.engine.base.Engine SELECT \"Track\".title, \"Album\".title, \"Genre\".name, \"Artist\".name \n",
      "FROM \"Track\" JOIN \"Album\" ON \"Album\".id = \"Track\".album_id JOIN \"Genre\" ON \"Genre\".id = \"Track\".genre_id JOIN \"Artist\" ON \"Artist\".id = \"Album\".artist_id\n",
      "2018-07-10 16:18:47,783 INFO sqlalchemy.engine.base.Engine ()\n",
      "('Black Dog', 'IV', 'Rock', 'Led Zepplin')\n",
      "('Stairway', 'IV', 'Metal', 'Led Zepplin')\n",
      "('About to rock', 'Who Made Who', 'Rock', 'AC/DC')\n",
      "('Who Made Who', 'Who Made Who', 'Metal', 'AC/DC')\n"
     ]
    }
   ],
   "source": [
    "result = conn.execute(select([track.c.title, album.c.title, genre.c.name, artist.c.name])\n",
    "                     .select_from(track.join(album).join(genre).join(artist)))\n",
    "for row in result.fetchall():\n",
    "    print(row)"
   ]
  },
  {
   "cell_type": "code",
   "execution_count": 121,
   "metadata": {},
   "outputs": [
    {
     "name": "stdout",
     "output_type": "stream",
     "text": [
      "2018-07-10 16:22:58,289 INFO sqlalchemy.engine.base.Engine SELECT \"Track\".id, \"Track\".title, \"Track\".length, \"Track\".rating, \"Track\".count, \"Track\".album_id, \"Track\".genre_id \n",
      "FROM \"Track\" JOIN \"Album\" ON \"Album\".id = \"Track\".album_id JOIN \"Genre\" ON \"Genre\".id = \"Track\".genre_id JOIN \"Artist\" ON \"Artist\".id = \"Album\".artist_id \n",
      "WHERE \"Genre\".id = ? AND \"Artist\".name LIKE ?\n",
      "2018-07-10 16:22:58,290 INFO sqlalchemy.engine.base.Engine (1, '%pp%')\n",
      "(1, 'Black Dog', 297, 5, 0, 1, 1)\n"
     ]
    }
   ],
   "source": [
    "result = conn.execute(track\n",
    "                     .select()\n",
    "                     .select_from(track.join(album).join(genre).join(artist))\n",
    "                     .where(\n",
    "                         and_(\n",
    "                             genre.c.id==1,\n",
    "                             artist.c.name.like('%pp%')\n",
    "                             )\n",
    "                           )\n",
    "                     )\n",
    "for row in result.fetchall():\n",
    "    print(row)"
   ]
  },
  {
   "cell_type": "code",
   "execution_count": null,
   "metadata": {},
   "outputs": [],
   "source": []
  }
 ],
 "metadata": {
  "kernelspec": {
   "display_name": "Python 3",
   "language": "python",
   "name": "python3"
  },
  "language_info": {
   "codemirror_mode": {
    "name": "ipython",
    "version": 3
   },
   "file_extension": ".py",
   "mimetype": "text/x-python",
   "name": "python",
   "nbconvert_exporter": "python",
   "pygments_lexer": "ipython3",
   "version": "3.6.4"
  }
 },
 "nbformat": 4,
 "nbformat_minor": 2
}
