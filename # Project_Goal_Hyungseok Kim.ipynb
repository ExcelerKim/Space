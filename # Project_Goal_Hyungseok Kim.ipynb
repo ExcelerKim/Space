{
 "cells": [
  {
   "cell_type": "markdown",
   "metadata": {},
   "source": [
    "# Project\n",
    "## 김형석_비전공자반"
   ]
  },
  {
   "cell_type": "markdown",
   "metadata": {},
   "source": [
    "1. 대중 Web Trend 분석 시스템 구축\n",
    "    - Source: News(article) / Youtube, Facebook, Twitter, Instagram 등\n",
    "    - Data\n",
    "        1. 게시:주제, 일시, 빈도, hashtag, 사용언어 등\n",
    "        2. 반응:횟수, 빈도, 시각, 형태 등\n",
    "        \n",
    "    - 분석: 주간, 일간 Hot Issue, 각 SNS의 Trend 시간차 등\n",
    "    - 목표: SNS상의 대중 Trend 형성 과정을 파악하고 예측, Contents Creater를 위한 주제별 트렌드 분석 플랫폼 구축\n",
    "\n",
    "\n",
    "2. 제조업 원가절감시스템 구축\n",
    "    - Source(Ref. 한국물가정보)\n",
    "    - Data\n",
    "        1. 생산기업\n",
    "            - 공통, 건축, 토목, 공조, 배관, 전기 등의 분류\n",
    "            - 업체정보, 생산품목, 단가, 수량, 생산시기, Capability, 운송수단 등\n",
    "            \n",
    "        2. 사용기업\n",
    "            - 가공업체, 설비업체, 제조업체 등의 분류\n",
    "            - 업체 정보, 필요 자재 품목, 수량, 시기 등\n",
    "            \n",
    "    - 분석: 지역별 Capa. 타당성, 운송수단 통합 가능성, 업체별 등록 가능 정보 등\n",
    "    - 목표: 자재 생산 기업 및 사용 기업이 각각 정보를 등록해 필요한 자재를 최적의 조건으로 구하고, 원가를 절감할 수 있는 플랫폼 시스템 구축\n",
    "    \n",
    "\n",
    "3. 관심 분야\n",
    "    - 필요한 Big Data 수집 및 처리\n",
    "    - 사용자용 시스템 구축, 누구나 Insight를 얻을 수 있는 플랫폼 제작"
   ]
  }
 ],
 "metadata": {
  "kernelspec": {
   "display_name": "Python 3",
   "language": "python",
   "name": "python3"
  },
  "language_info": {
   "codemirror_mode": {
    "name": "ipython",
    "version": 3
   },
   "file_extension": ".py",
   "mimetype": "text/x-python",
   "name": "python",
   "nbconvert_exporter": "python",
   "pygments_lexer": "ipython3",
   "version": "3.6.4"
  }
 },
 "nbformat": 4,
 "nbformat_minor": 2
}
