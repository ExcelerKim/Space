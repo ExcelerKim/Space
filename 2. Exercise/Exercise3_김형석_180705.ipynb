{
 "cells": [
  {
   "cell_type": "markdown",
   "metadata": {},
   "source": [
    "### Exercise 82: Taxi Fare"
   ]
  },
  {
   "cell_type": "code",
   "execution_count": 2,
   "metadata": {},
   "outputs": [
    {
     "name": "stdout",
     "output_type": "stream",
     "text": [
      "==== Taxi Fare =====\n",
      "거리를 입력하시오: 750\n",
      "택시 기본 요금은 $4.00,\n",
      "증가 요금은 $0.25/140m입니다.\n",
      "당신이 달린 거리는 750m 입니다.\n",
      "\n",
      "따라서 당신의 택시 요금은 $5.25 입니다.\n"
     ]
    }
   ],
   "source": [
    "base = 4.00\n",
    "p_incl = 0.25\n",
    "d_incl = 140\n",
    "def taxi(dis):\n",
    "    global base, p_incl, d_incl\n",
    "    fare = base + p_incl*(dis//d_incl)\n",
    "    return fare\n",
    "try:\n",
    "    print('{:=^20}'.format(' Taxi Fare '))\n",
    "    dis = input('거리를 입력하시오: ')\n",
    "    fare = taxi(int(dis))\n",
    "    print('''택시 기본 요금은 ${0:.2f},\n",
    "증가 요금은 ${1:.2f}/{2}m입니다.\n",
    "당신이 달린 거리는 {3}m 입니다.\\n\n",
    "따라서 당신의 택시 요금은 ${4:.2f} 입니다.'''.format(base,p_incl,d_incl,dis,fare))\n",
    "except:\n",
    "    print('올바른 거리를 입력하시오')"
   ]
  },
  {
   "cell_type": "markdown",
   "metadata": {},
   "source": [
    "### Exercise 84: Median of Three Values"
   ]
  },
  {
   "cell_type": "code",
   "execution_count": 3,
   "metadata": {},
   "outputs": [
    {
     "name": "stdout",
     "output_type": "stream",
     "text": [
      "첫번째 수 입력: 1\n",
      "두번째 수 입력: 3\n",
      "세번째 수 입력: 3\n",
      "세 수의 중앙값은 3 입니다.\n"
     ]
    }
   ],
   "source": [
    "def median(x,y,z):\n",
    "    return sorted([x,y,z])[1]\n",
    "\n",
    "x = int(input('첫번째 수 입력: '))\n",
    "y = int(input('두번째 수 입력: '))\n",
    "z = int(input('세번째 수 입력: '))\n",
    "print('세 수의 중앙값은 {} 입니다.'.format(median(x,y,z)))"
   ]
  },
  {
   "cell_type": "markdown",
   "metadata": {},
   "source": [
    "### Exercise 85: Convert an Integer to its Ordinal Number"
   ]
  },
  {
   "cell_type": "code",
   "execution_count": 4,
   "metadata": {},
   "outputs": [
    {
     "name": "stdout",
     "output_type": "stream",
     "text": [
      "기수를 입력하시오: 15\n",
      "서수:  \n",
      "계속 입력하시려면 y, 그만 입력하시려면 n을 입력하시오.y\n",
      "기수를 입력하시오: 3\n",
      "서수:  third\n",
      "계속 입력하시려면 y, 그만 입력하시려면 n을 입력하시오.n\n"
     ]
    }
   ],
   "source": [
    "def ordinal(x):\n",
    "    oDic = {1:'first',2:'second',3:'third',4:'fourth',5:'fiveth',6:'sixth',7:'seventh',\n",
    "            8:'eighth',9:'nineth',10:'tenth',11:'eleventh',12:'twelveth'}\n",
    "    if x in oDic:\n",
    "        return oDic[x]\n",
    "    else:\n",
    "        return ''\n",
    "while True:\n",
    "    x = input('기수를 입력하시오: ')\n",
    "    try:\n",
    "        ord = ordinal(int(x))\n",
    "        print('서수: ',ord)\n",
    "        t = input('계속 입력하시려면 y, 그만 입력하시려면 n을 입력하시오.')\n",
    "        if t =='n':\n",
    "            break\n",
    "    except:\n",
    "        print('다시 입력하시오.')"
   ]
  },
  {
   "cell_type": "markdown",
   "metadata": {},
   "source": [
    "### Exercise 88: Is It a Valid Triangle?"
   ]
  },
  {
   "cell_type": "code",
   "execution_count": 5,
   "metadata": {},
   "outputs": [
    {
     "name": "stdout",
     "output_type": "stream",
     "text": [
      "1번째 변의 길이를 입력하시오: 4\n",
      "2번째 변의 길이를 입력하시오: kim\n",
      "변의 길이는 숫자로 입력하시오.\n",
      "2번째 변의 길이를 입력하시오: 7\n",
      "3번째 변의 길이를 입력하시오: 8\n",
      "해당 세 변의 길이를 가진 삼각형을 만들 수 있습니다.\n"
     ]
    }
   ],
   "source": [
    "def tritest(dis):\n",
    "    sort = sorted(dis)\n",
    "    t = sort[2] < sort[1]+sort[0]\n",
    "    return t\n",
    "\n",
    "dis = []\n",
    "for a in range (1,4):\n",
    "    while True:\n",
    "        try:\n",
    "            i = input('{}번째 변의 길이를 입력하시오: '.format(a))\n",
    "            i = int(i)\n",
    "            dis.append(i)\n",
    "            break;\n",
    "        except:\n",
    "            print('변의 길이는 숫자로 입력하시오.')\n",
    "if tritest(dis):\n",
    "    print('해당 세 변의 길이를 가진 삼각형을 만들 수 있습니다.')\n",
    "else:\n",
    "    print('해당 세 변의 길이를 가진 삼각형을 만들 수 없습니다.')\n",
    "    "
   ]
  },
  {
   "cell_type": "markdown",
   "metadata": {},
   "source": [
    "### Exercise 92: Is a Number Prime?"
   ]
  },
  {
   "cell_type": "code",
   "execution_count": 18,
   "metadata": {},
   "outputs": [
    {
     "name": "stdout",
     "output_type": "stream",
     "text": [
      "검사할 수를 입력하시오: 11\n",
      "11은(는) 소수입니다.\n",
      "계속 입력하시려면 y, 그만 입력하시려면 n을 입력하시오.y\n",
      "검사할 수를 입력하시오: 12\n",
      "12은(는) 소수가 아닙니다.\n",
      "계속 입력하시려면 y, 그만 입력하시려면 n을 입력하시오.n\n"
     ]
    }
   ],
   "source": [
    "def primetest(x):\n",
    "    return len([i for i in range (1,x) if not x%i]) == 1\n",
    "\n",
    "flag = True\n",
    "while flag:\n",
    "    try:\n",
    "        x = int(input('검사할 수를 입력하시오: '))\n",
    "        if primetest(x):\n",
    "            print('%d은(는) 소수입니다.' %x)\n",
    "        else:\n",
    "            print('%d은(는) 소수가 아닙니다.' %x)\n",
    "        r = input('계속 입력하시려면 y, 그만 입력하시려면 n을 입력하시오.')\n",
    "        if r == 'n':\n",
    "            flag = not flag\n",
    "    except:\n",
    "        print('정수를 입력하시오.')"
   ]
  },
  {
   "cell_type": "code",
   "execution_count": null,
   "metadata": {},
   "outputs": [],
   "source": []
  }
 ],
 "metadata": {
  "kernelspec": {
   "display_name": "Python 3",
   "language": "python",
   "name": "python3"
  },
  "language_info": {
   "codemirror_mode": {
    "name": "ipython",
    "version": 3
   },
   "file_extension": ".py",
   "mimetype": "text/x-python",
   "name": "python",
   "nbconvert_exporter": "python",
   "pygments_lexer": "ipython3",
   "version": "3.6.4"
  }
 },
 "nbformat": 4,
 "nbformat_minor": 2
}
