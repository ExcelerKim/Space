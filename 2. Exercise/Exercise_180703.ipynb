{
 "cells": [
  {
   "cell_type": "markdown",
   "metadata": {},
   "source": [
    "### Exercise 105: Reverse Order"
   ]
  },
  {
   "cell_type": "code",
   "execution_count": 1,
   "metadata": {},
   "outputs": [
    {
     "name": "stdout",
     "output_type": "stream",
     "text": [
      "숫자를 입력하시오: 3\n",
      "숫자를 입력하시오: 4\n",
      "숫자를 입력하시오: 5\n",
      "숫자를 입력하시오: 67\n",
      "숫자를 입력하시오: rla\n",
      "숫자 입력\n",
      "숫자를 입력하시오:  \n",
      "숫자 입력\n",
      "숫자를 입력하시오: 78\n",
      "숫자를 입력하시오: 4\n",
      "숫자를 입력하시오: 0\n",
      "4\n",
      "78\n",
      "67\n",
      "5\n",
      "4\n",
      "3\n"
     ]
    }
   ],
   "source": [
    "k = []\n",
    "while True:\n",
    "    i = input('숫자를 입력하시오: ')\n",
    "    try:\n",
    "        k.append(int(i))\n",
    "        if int(i) == 0:\n",
    "            break;\n",
    "    except:\n",
    "        print('숫자 입력')\n",
    "for a in k[-2::-1]:\n",
    "    print(a)\n",
    "    "
   ]
  },
  {
   "cell_type": "markdown",
   "metadata": {},
   "source": [
    "### Exercise 107: Avoiding Duplicates"
   ]
  },
  {
   "cell_type": "code",
   "execution_count": 1,
   "metadata": {},
   "outputs": [
    {
     "name": "stdout",
     "output_type": "stream",
     "text": [
      "입력하시오first\n",
      "입력하시오second\n",
      "입력하시오first\n",
      "입력하시오third\n",
      "입력하시오second\n",
      "입력하시오\n",
      "\n",
      "\n",
      "first\n",
      "second\n",
      "third\n"
     ]
    }
   ],
   "source": [
    "k = []\n",
    "while True:\n",
    "    i = input('입력하시오')\n",
    "    if i == '':\n",
    "        break;\n",
    "    elif i in k:\n",
    "        pass\n",
    "    else:\n",
    "        k.append(i)\n",
    "print('\\n')\n",
    "for a in k:\n",
    "    print(a)"
   ]
  },
  {
   "cell_type": "markdown",
   "metadata": {},
   "source": [
    "### Excercise 108: Negatives, Zeros and Positives"
   ]
  },
  {
   "cell_type": "code",
   "execution_count": 6,
   "metadata": {},
   "outputs": [
    {
     "name": "stdout",
     "output_type": "stream",
     "text": [
      "정수를 입력하시오: 3\n",
      "정수를 입력하시오: -4\n",
      "정수를 입력하시오: 1\n",
      "정수를 입력하시오: 0\n",
      "정수를 입력하시오: -1\n",
      "정수를 입력하시오: 0\n",
      "정수를 입력하시오: -2\n",
      "정수를 입력하시오: \n",
      "-4\n",
      "-1\n",
      "-2\n",
      "0\n",
      "0\n",
      "3\n",
      "1\n"
     ]
    }
   ],
   "source": [
    "p_list = []\n",
    "z_list = []\n",
    "n_list = []\n",
    "while True:\n",
    "    i = input('정수를 입력하시오: ')\n",
    "    try:\n",
    "        if i == '':\n",
    "            break;\n",
    "        elif int(i) < 0:\n",
    "            n_list.append(int(i))\n",
    "        elif int(i) == 0:\n",
    "            z_list.append(int(i))\n",
    "        else:\n",
    "            p_list.append(int(i))\n",
    "        t_list = n_list+z_list+p_list\n",
    "        \n",
    "    except:\n",
    "        print('다시 입력하세요 정수로.')\n",
    "for a in t_list:\n",
    "        print(a)"
   ]
  },
  {
   "cell_type": "markdown",
   "metadata": {},
   "source": [
    "### Exercise 110: Perfect Numbers"
   ]
  },
  {
   "cell_type": "code",
   "execution_count": 16,
   "metadata": {},
   "outputs": [
    {
     "name": "stdout",
     "output_type": "stream",
     "text": [
      "[6, 28, 496, 8128]\n"
     ]
    }
   ],
   "source": [
    "def perfectTest(i):\n",
    "    k = []\n",
    "    flag = True\n",
    "    for j in range(1,i):\n",
    "        if i%j == 0:\n",
    "            k.append(j)\n",
    "        else:\n",
    "            pass\n",
    "    if sum(k) == i:\n",
    "        flag = True\n",
    "    else:\n",
    "        flag = not flag\n",
    "    return flag\n",
    "p_list = []\n",
    "for a in range(1,10001):\n",
    "    if perfectTest(a):\n",
    "        p_list.append(a)\n",
    "    else:\n",
    "        pass\n",
    "print(p_list)"
   ]
  },
  {
   "cell_type": "markdown",
   "metadata": {},
   "source": [
    "### Exercise 113: Formatting a List"
   ]
  },
  {
   "cell_type": "code",
   "execution_count": 49,
   "metadata": {},
   "outputs": [
    {
     "name": "stdout",
     "output_type": "stream",
     "text": [
      "단어를 입력하세요. 그만 입력하시려면 빈 칸을 입력하세요.apples\n",
      "단어를 입력하세요. 그만 입력하시려면 빈 칸을 입력하세요.oranges\n",
      "단어를 입력하세요. 그만 입력하시려면 빈 칸을 입력하세요.bananas\n",
      "단어를 입력하세요. 그만 입력하시려면 빈 칸을 입력하세요.\n"
     ]
    },
    {
     "data": {
      "text/plain": [
       "'apples, oranges, and bananas'"
      ]
     },
     "execution_count": 49,
     "metadata": {},
     "output_type": "execute_result"
    }
   ],
   "source": [
    "def writing(t_list):\n",
    "    text = ''\n",
    "    i = 0\n",
    "    n = len(t_list)\n",
    "    for t in t_list:\n",
    "        if i<n-1:\n",
    "            text += t+', '\n",
    "            i +=1\n",
    "        else:\n",
    "            text +='and '+t_list[-1]\n",
    "    return text\n",
    "\n",
    "t_list = []\n",
    "while True:\n",
    "    t = input('단어를 입력하세요. 그만 입력하시려면 빈 칸을 입력하세요.')\n",
    "    if t =='':\n",
    "        break;\n",
    "    else:\n",
    "        t_list.append(t)\n",
    "writing(t_list)\n",
    "    \n",
    "            "
   ]
  },
  {
   "cell_type": "code",
   "execution_count": null,
   "metadata": {},
   "outputs": [],
   "source": []
  }
 ],
 "metadata": {
  "kernelspec": {
   "display_name": "Python 3",
   "language": "python",
   "name": "python3"
  },
  "language_info": {
   "codemirror_mode": {
    "name": "ipython",
    "version": 3
   },
   "file_extension": ".py",
   "mimetype": "text/x-python",
   "name": "python",
   "nbconvert_exporter": "python",
   "pygments_lexer": "ipython3",
   "version": "3.6.4"
  }
 },
 "nbformat": 4,
 "nbformat_minor": 2
}
