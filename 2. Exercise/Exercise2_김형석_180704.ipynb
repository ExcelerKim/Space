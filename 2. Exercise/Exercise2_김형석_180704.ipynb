{
 "cells": [
  {
   "cell_type": "markdown",
   "metadata": {},
   "source": [
    "### Exercise 61: Average"
   ]
  },
  {
   "cell_type": "code",
   "execution_count": 8,
   "metadata": {},
   "outputs": [
    {
     "name": "stdout",
     "output_type": "stream",
     "text": [
      "숫자를 입력하시오: 0\n",
      "Error: 0 이외의 수를 입력하시오\n",
      "숫자를 입력하시오: 3\n",
      "숫자를 입력하시오: 4\n",
      "숫자를 입력하시오: 5\n",
      "숫자를 입력하시오: kim\n",
      "숫자를 입력해야 합니다.\n",
      "숫자를 입력하시오: 4\n",
      "숫자를 입력하시오: 0\n",
      "입력 완료\n",
      "평균:  4.0\n"
     ]
    }
   ],
   "source": [
    "nList=[]\n",
    "count = 0\n",
    "while True:\n",
    "    try:\n",
    "        n = int(input(\"숫자를 입력하시오: \"))\n",
    "        if n == 0:\n",
    "            if count == 0:\n",
    "                print('Error: 0 이외의 수를 입력하시오')\n",
    "                count =+ 1\n",
    "            else:\n",
    "                print('입력 완료')\n",
    "                break;\n",
    "        else:\n",
    "            nList.append(n)\n",
    "            count =+ 1\n",
    "    except:\n",
    "        print(\"숫자를 입력해야 합니다.\")\n",
    "    \n",
    "print('평균: ',sum(nList)/len(nList))\n"
   ]
  },
  {
   "cell_type": "markdown",
   "metadata": {},
   "source": [
    "### Exercise 63: Temperature Conversion Table"
   ]
  },
  {
   "cell_type": "code",
   "execution_count": 36,
   "metadata": {
    "scrolled": true
   },
   "outputs": [
    {
     "name": "stdout",
     "output_type": "stream",
     "text": [
      "==============================\n",
      "    Temp. Conversion Table    \n",
      " Celsius   \t    Fahrenheit   \n",
      "    1      \t       33.8      \n",
      "    2      \t       35.6      \n",
      "    3      \t       37.4      \n",
      "    4      \t       39.2      \n",
      "    5      \t       41.0      \n",
      "    6      \t       42.8      \n",
      "    7      \t       44.6      \n",
      "    8      \t       46.4      \n",
      "    9      \t       48.2      \n",
      "    10     \t       50.0      \n",
      "    11     \t       51.8      \n",
      "    12     \t       53.6      \n",
      "    13     \t       55.4      \n",
      "    14     \t       57.2      \n",
      "    15     \t       59.0      \n",
      "    16     \t       60.8      \n",
      "    17     \t       62.6      \n",
      "    18     \t       64.4      \n",
      "    19     \t       66.2      \n",
      "    20     \t       68.0      \n",
      "    21     \t       69.8      \n",
      "    22     \t       71.6      \n",
      "    23     \t       73.4      \n",
      "    24     \t       75.2      \n",
      "    25     \t       77.0      \n",
      "    26     \t       78.8      \n",
      "    27     \t       80.6      \n",
      "    28     \t       82.4      \n",
      "    29     \t       84.2      \n",
      "    30     \t       86.0      \n",
      "    31     \t       87.8      \n",
      "    32     \t       89.6      \n",
      "    33     \t       91.4      \n",
      "    34     \t       93.2      \n",
      "    35     \t       95.0      \n",
      "    36     \t       96.8      \n",
      "    37     \t       98.6      \n",
      "    38     \t      100.4      \n",
      "    39     \t      102.2      \n",
      "    40     \t      104.0      \n",
      "    41     \t      105.8      \n",
      "    42     \t      107.6      \n",
      "    43     \t      109.4      \n",
      "    44     \t      111.2      \n",
      "    45     \t      113.0      \n",
      "    46     \t      114.8      \n",
      "    47     \t      116.6      \n",
      "    48     \t      118.4      \n",
      "    49     \t      120.2      \n",
      "    50     \t      122.0      \n",
      "    51     \t      123.8      \n",
      "    52     \t      125.6      \n",
      "    53     \t      127.4      \n",
      "    54     \t      129.2      \n",
      "    55     \t      131.0      \n",
      "    56     \t      132.8      \n",
      "    57     \t      134.6      \n",
      "    58     \t      136.4      \n",
      "    59     \t      138.2      \n",
      "    60     \t      140.0      \n",
      "    61     \t      141.8      \n",
      "    62     \t      143.6      \n",
      "    63     \t      145.4      \n",
      "    64     \t      147.2      \n",
      "    65     \t      149.0      \n",
      "    66     \t      150.8      \n",
      "    67     \t      152.6      \n",
      "    68     \t      154.4      \n",
      "    69     \t      156.2      \n",
      "    70     \t      158.0      \n",
      "    71     \t      159.8      \n",
      "    72     \t      161.6      \n",
      "    73     \t      163.4      \n",
      "    74     \t      165.2      \n",
      "    75     \t      167.0      \n",
      "    76     \t      168.8      \n",
      "    77     \t      170.6      \n",
      "    78     \t      172.4      \n",
      "    79     \t      174.2      \n",
      "    80     \t      176.0      \n",
      "    81     \t      177.8      \n",
      "    82     \t      179.6      \n",
      "    83     \t      181.4      \n",
      "    84     \t      183.2      \n",
      "    85     \t      185.0      \n",
      "    86     \t      186.8      \n",
      "    87     \t      188.6      \n",
      "    88     \t      190.4      \n",
      "    89     \t      192.2      \n",
      "    90     \t      194.0      \n",
      "    91     \t      195.8      \n",
      "    92     \t      197.6      \n",
      "    93     \t      199.4      \n",
      "    94     \t      201.2      \n",
      "    95     \t      203.0      \n",
      "    96     \t      204.8      \n",
      "    97     \t      206.6      \n",
      "    98     \t      208.4      \n",
      "    99     \t      210.2      \n",
      "   100     \t      212.0      \n",
      "==============================\n"
     ]
    }
   ],
   "source": [
    "print('='*30)\n",
    "print('{:^30}'.format('Temp. Conversion Table'))\n",
    "print('{:^10} \\t {:^16}'.format('Celsius','Fahrenheit'))\n",
    "for i in range(1,101):\n",
    "    print('{:^10} \\t {:^16.1f}'.format(i,1.8*i+32))\n",
    "print('='*30)\n"
   ]
  },
  {
   "cell_type": "markdown",
   "metadata": {},
   "source": [
    "### Exercise 66: Compute a Grade Point Average"
   ]
  },
  {
   "cell_type": "code",
   "execution_count": 1,
   "metadata": {},
   "outputs": [
    {
     "name": "stdout",
     "output_type": "stream",
     "text": [
      "각 과목의 성적을 입력하시오: a\n",
      "각 과목의 성적을 입력하시오: b+\n",
      "각 과목의 성적을 입력하시오: c\n",
      "각 과목의 성적을 입력하시오: k\n",
      "Error: 올바른 성적을 입력하시오(A+ ~ F)\n",
      "각 과목의 성적을 입력하시오: c+\n",
      "각 과목의 성적을 입력하시오: d\n",
      "각 과목의 성적을 입력하시오: \n",
      "입력 완료\n",
      "성적은 2.43 입니다.\n"
     ]
    }
   ],
   "source": [
    "point = []\n",
    "while True:\n",
    "    grade = input('각 과목의 성적을 입력하시오: ')\n",
    "    grade = grade.upper()\n",
    "    if grade == '':\n",
    "        print('입력 완료')\n",
    "        break;\n",
    "    elif grade == 'A+':\n",
    "        p = 4.0\n",
    "    elif grade == 'A':\n",
    "        p = 4.0\n",
    "    elif grade == 'A-':\n",
    "        p = 3.7\n",
    "    elif grade == 'B+':\n",
    "        p = 3.3\n",
    "    elif grade == 'B':\n",
    "        p = 3.0\n",
    "    elif grade == 'B-':\n",
    "        p = 2.7\n",
    "    elif grade == 'C+':\n",
    "        p = 2.3\n",
    "    elif grade == 'C':\n",
    "        p = 2.0\n",
    "    elif grade == 'C-':\n",
    "        p = 1.7\n",
    "    elif grade == 'D+':\n",
    "        p = 1.3\n",
    "    elif grade == 'D':\n",
    "        p = 1.0\n",
    "    elif grade == 'F':\n",
    "        p = 0\n",
    "    else:\n",
    "        print('Error: 올바른 성적을 입력하시오(A+ ~ F)')\n",
    "    point.append(p)\n",
    "avg = sum(point)/len(point)\n",
    "print('성적은 {0:.2f} 입니다.'.format(avg))"
   ]
  },
  {
   "cell_type": "markdown",
   "metadata": {},
   "source": [
    "### Exercise 67: Admission price"
   ]
  },
  {
   "cell_type": "code",
   "execution_count": 11,
   "metadata": {},
   "outputs": [
    {
     "name": "stdout",
     "output_type": "stream",
     "text": [
      "입장객의 나이를 입력하시오: 2\n",
      "입장객의 나이를 입력하시오: 10\n",
      "입장객의 나이를 입력하시오: 20\n",
      "입장객의 나이를 입력하시오: 23\n",
      "입장객의 나이를 입력하시오: k\n",
      "올바른 나이를 입력하시오\n",
      "입장객의 나이를 입력하시오: 70\n",
      "입장객의 나이를 입력하시오: \n",
      "입력 종료\n",
      "전체 입장료는 $ 92.00 입니다.\n"
     ]
    }
   ],
   "source": [
    "price = []\n",
    "while True:\n",
    "    age = input('입장객의 나이를 입력하시오: ')\n",
    "    if age =='':\n",
    "        print('입력 종료')\n",
    "        break;\n",
    "    else:\n",
    "        try:\n",
    "            age = int(age)\n",
    "            if age < 2:\n",
    "                p = 0\n",
    "            elif age < 12:\n",
    "                p = 14.00\n",
    "            elif age > 65:\n",
    "                p = 18.00\n",
    "            else:\n",
    "                p = 23.00\n",
    "            price.append(p)\n",
    "        except:\n",
    "            print('올바른 나이를 입력하시오')\n",
    "total = sum(price)\n",
    "print('전체 입장료는 $ {0:.2f} 입니다.'.format(total))"
   ]
  },
  {
   "cell_type": "markdown",
   "metadata": {},
   "source": [
    "### Exercise 72: Is a String a Palindrome?"
   ]
  },
  {
   "cell_type": "code",
   "execution_count": 16,
   "metadata": {},
   "outputs": [
    {
     "name": "stdout",
     "output_type": "stream",
     "text": [
      "문자를 입력하시오: a\n",
      "해당 문자는 Palindrome 입니다.\n",
      "더 입력하시려면 a, 그만 입력하시려면 b를 입력하시오.a\n",
      "문자를 입력하시오: level\n",
      "해당 문자는 Palindrome 입니다.\n",
      "더 입력하시려면 a, 그만 입력하시려면 b를 입력하시오.b\n"
     ]
    }
   ],
   "source": [
    "result = False\n",
    "flag = True\n",
    "while flag:\n",
    "    text = input('문자를 입력하시오: ')\n",
    "    n = len(text)\n",
    "    if n%2 == 1:\n",
    "        if text[:n//2] == text[(n//2+1):]:\n",
    "                 result = not result\n",
    "    else:\n",
    "        if text[:n/2] == text[n/2:]:\n",
    "                result = not result\n",
    "    if result:\n",
    "        print('해당 문자는 Palindrome 입니다.')\n",
    "    else:\n",
    "        print('해당 문자는 Palindrome 이 아닙니다.')\n",
    "        \n",
    "    i = input('더 입력하시려면 a, 그만 입력하시려면 b를 입력하시오.')\n",
    "    if i =='a':\n",
    "        pass\n",
    "    else:\n",
    "        flag = not flag"
   ]
  },
  {
   "cell_type": "markdown",
   "metadata": {},
   "source": [
    "### Exercise 74: Multiplication Table"
   ]
  },
  {
   "cell_type": "code",
   "execution_count": null,
   "metadata": {},
   "outputs": [],
   "source": []
  }
 ],
 "metadata": {
  "kernelspec": {
   "display_name": "Python 3",
   "language": "python",
   "name": "python3"
  },
  "language_info": {
   "codemirror_mode": {
    "name": "ipython",
    "version": 3
   },
   "file_extension": ".py",
   "mimetype": "text/x-python",
   "name": "python",
   "nbconvert_exporter": "python",
   "pygments_lexer": "ipython3",
   "version": "3.6.4"
  }
 },
 "nbformat": 4,
 "nbformat_minor": 2
}
